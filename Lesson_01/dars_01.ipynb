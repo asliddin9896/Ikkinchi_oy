{
 "cells": [
  {
   "cell_type": "markdown",
   "id": "8d88b154",
   "metadata": {},
   "source": [
    "# Uyga vazifa "
   ]
  },
  {
   "cell_type": "code",
   "execution_count": 16,
   "id": "97d20f98",
   "metadata": {},
   "outputs": [],
   "source": [
    "# data preprosessing tushurib qoldirilgan qatorlarni toldirish\n",
    "\n",
    "def tozala(df):\n",
    "    for col in df.columns:\n",
    "        if df[col].isnull().any():\n",
    "            if df[col].dtype=='object':\n",
    "                df[col].fillna(df[col].mode()[0],inplace=True)\n",
    "            else:\n",
    "                df[col].fillna(df[col].mean(),inplace=True)\n",
    "    return df"
   ]
  },
  {
   "cell_type": "code",
   "execution_count": null,
   "id": "f57d9ed7",
   "metadata": {},
   "outputs": [],
   "source": [
    "# Matn korinishdagi datalarni raqamli ustunlarga almashtrish\n",
    "\n",
    "from sklearn.preprocessing import LabelEncoder\n",
    "le = LabelEncoder()\n",
    "\n",
    "def encodlash(df):\n",
    "    for col in df.columns:\n",
    "        if df[col].dtype == 'object':\n",
    "            if df[col].nunique() <= 6:\n",
    "                dummies = pd.get_dummies(df[col], prefix=col, dtype=int)\n",
    "                df = pd.concat([df.drop(columns=[col]), dummies], axis=1)\n",
    "            else:\n",
    "                df[col] = le.fit_transform(df[col])\n",
    "    \n",
    "    return df\n"
   ]
  },
  {
   "cell_type": "code",
   "execution_count": null,
   "id": "b26a4932",
   "metadata": {},
   "outputs": [],
   "source": []
  },
  {
   "cell_type": "code",
   "execution_count": null,
   "id": "6e945f60",
   "metadata": {},
   "outputs": [],
   "source": [
    "# katta raqamli ko'rinishdagi qiymatlarni Standartsclaing ko'rinishga  keltirish\n",
    "\n",
    "from sklearn.preprocessing import StandardScaler\n",
    "standart_scaler=StandardScaler()\n",
    "\n",
    "def scaling_qil(df):\n",
    "    numerical_col=df.select_dtypes(include=['int32','int64','float64']).columns.drop('Sleep Disorder_Insomnia')\n",
    "    df[numerical_col]=standart_scaler.fit_transform(df[numerical_col])\n",
    "    return df"
   ]
  },
  {
   "cell_type": "code",
   "execution_count": 1,
   "id": "8f386d32",
   "metadata": {},
   "outputs": [
    {
     "data": {
      "text/plain": [
       "7"
      ]
     },
     "execution_count": 1,
     "metadata": {},
     "output_type": "execute_result"
    }
   ],
   "source": [
    "# istalgan berilgan sonlarni yigindisini topadigan funcksiya\n",
    "\n",
    "def yigindini_top(a,b):\n",
    "    return a+b\n",
    "yigindini_top(3,4)"
   ]
  },
  {
   "cell_type": "code",
   "execution_count": 2,
   "id": "6028d7de",
   "metadata": {},
   "outputs": [],
   "source": [
    "#  listdagi so'zlar ichidan eng qisqa so'zni toping\n",
    "\n",
    "def qisqa_soz(a):\n",
    "    sozlar=a.split()\n",
    "    jami=[]\n",
    "    for i in sozlar:\n",
    "        jami.append(len(i))\n",
    "    return min(jami)"
   ]
  },
  {
   "cell_type": "code",
   "execution_count": 3,
   "id": "a9cc2b46",
   "metadata": {},
   "outputs": [
    {
     "data": {
      "text/plain": [
       "3"
      ]
     },
     "execution_count": 3,
     "metadata": {},
     "output_type": "execute_result"
    }
   ],
   "source": [
    "qisqa_soz(\"men bugun bandman\")"
   ]
  },
  {
   "cell_type": "code",
   "execution_count": 5,
   "id": "6249ff65",
   "metadata": {},
   "outputs": [],
   "source": [
    "# listdagi so'zlar ichidan eng uzun so'zni  toping\n",
    "\n",
    "def qisqa_soz(a):\n",
    "    sozlar=a.split()\n",
    "    jami=[]\n",
    "    for i in sozlar:\n",
    "        jami.append(len(i))\n",
    "\n",
    "    return max(jami) "
   ]
  },
  {
   "cell_type": "code",
   "execution_count": 6,
   "id": "466b2022",
   "metadata": {},
   "outputs": [
    {
     "data": {
      "text/plain": [
       "7"
      ]
     },
     "execution_count": 6,
     "metadata": {},
     "output_type": "execute_result"
    }
   ],
   "source": [
    "qisqa_soz(\"men bugun bandman\")"
   ]
  },
  {
   "cell_type": "code",
   "execution_count": 12,
   "metadata": {},
   "outputs": [],
   "source": [
    "# berilgan sonlar ichidan juftlarini topadigan \n",
    "\n",
    "def sonlar(*x):\n",
    "    jami=[]\n",
    "    for a in x:\n",
    "        if a%2==0:\n",
    "            jami.append(a)\n",
    "    return jami"
   ]
  },
  {
   "cell_type": "code",
   "execution_count": 13,
   "id": "4bd31fae",
   "metadata": {},
   "outputs": [
    {
     "data": {
      "text/plain": [
       "[2, 4, 6]"
      ]
     },
     "execution_count": 13,
     "metadata": {},
     "output_type": "execute_result"
    }
   ],
   "source": [
    "sonlar(1,2,3,4,5,6)"
   ]
  },
  {
   "cell_type": "code",
   "execution_count": null,
   "metadata": {},
   "outputs": [
    {
     "data": {
      "text/plain": [
       "[1, 3, 5]"
      ]
     },
     "execution_count": 61,
     "metadata": {},
     "output_type": "execute_result"
    }
   ],
   "source": [
    "# berilgan sonlar ichidan toqlarini chiqarsin\n",
    "\n",
    "def sonlar(*x):\n",
    "    jami=[]\n",
    "    for a in x:\n",
    "        if a%2!=0:\n",
    "            jami.append(a)\n",
    "    return jami\n",
    "sonlar(1,2,3,4,5,6)"
   ]
  },
  {
   "cell_type": "code",
   "execution_count": 15,
   "id": "1ca0f3a4",
   "metadata": {},
   "outputs": [
    {
     "data": {
      "text/plain": [
       "15"
      ]
     },
     "execution_count": 15,
     "metadata": {},
     "output_type": "execute_result"
    }
   ],
   "source": [
    "# berilgan sonlarni yigindisini topadigan funksiya \n",
    "\n",
    "def jami(*x):\n",
    "    return sum(x)\n",
    "\n",
    "jami(1,2,3,4,5)"
   ]
  },
  {
   "cell_type": "code",
   "execution_count": null,
   "id": "b3600fb2",
   "metadata": {},
   "outputs": [],
   "source": []
  }
 ],
 "metadata": {
  "kernelspec": {
   "display_name": "base",
   "language": "python",
   "name": "python3"
  },
  "language_info": {
   "codemirror_mode": {
    "name": "ipython",
    "version": 3
   },
   "file_extension": ".py",
   "mimetype": "text/x-python",
   "name": "python",
   "nbconvert_exporter": "python",
   "pygments_lexer": "ipython3",
   "version": "3.8.8"
  }
 },
 "nbformat": 4,
 "nbformat_minor": 5
}
