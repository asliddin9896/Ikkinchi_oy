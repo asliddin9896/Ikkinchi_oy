{
 "cells": [
  {
   "cell_type": "markdown",
   "id": "09479666",
   "metadata": {},
   "source": [
    "# 4-dars project haqida report qilish"
   ]
  },
  {
   "cell_type": "code",
   "execution_count": null,
   "id": "a20e5241",
   "metadata": {},
   "outputs": [],
   "source": [
    "# Biz avval row datasetimizni chaqirib olayapmiz \n",
    "import pandas as pd\n",
    "df=pd.read_csv(\"appearances.csv\")"
   ]
  },
  {
   "cell_type": "code",
   "execution_count": null,
   "id": "6350d1d7",
   "metadata": {},
   "outputs": [
    {
     "name": "stdout",
     "output_type": "stream",
     "text": [
      "<class 'pandas.core.frame.DataFrame'>\n",
      "RangeIndex: 1706806 entries, 0 to 1706805\n",
      "Data columns (total 13 columns):\n",
      " #   Column                  Dtype \n",
      "---  ------                  ----- \n",
      " 0   appearance_id           object\n",
      " 1   game_id                 int64 \n",
      " 2   player_id               int64 \n",
      " 3   player_club_id          int64 \n",
      " 4   player_current_club_id  int64 \n",
      " 5   date                    object\n",
      " 6   player_name             object\n",
      " 7   competition_id          object\n",
      " 8   yellow_cards            int64 \n",
      " 9   red_cards               int64 \n",
      " 10  goals                   int64 \n",
      " 11  assists                 int64 \n",
      " 12  minutes_played          int64 \n",
      "dtypes: int64(9), object(4)\n",
      "memory usage: 169.3+ MB\n"
     ]
    }
   ],
   "source": [
    "# keyingi qiladigan ishimiz featurelar bilan tanishib chiqamiz \n",
    "# datamiz bilan tanishayotganda biz uchun eng kerakli narsa \n",
    "# target qiymat bilan import qiymatimizni aniqlab olishimiz kerak\n",
    "\n",
    "df.info()"
   ]
  },
  {
   "cell_type": "code",
   "execution_count": 3,
   "id": "feb6a251",
   "metadata": {},
   "outputs": [
    {
     "data": {
      "text/html": [
       "<div>\n",
       "<style scoped>\n",
       "    .dataframe tbody tr th:only-of-type {\n",
       "        vertical-align: middle;\n",
       "    }\n",
       "\n",
       "    .dataframe tbody tr th {\n",
       "        vertical-align: top;\n",
       "    }\n",
       "\n",
       "    .dataframe thead th {\n",
       "        text-align: right;\n",
       "    }\n",
       "</style>\n",
       "<table border=\"1\" class=\"dataframe\">\n",
       "  <thead>\n",
       "    <tr style=\"text-align: right;\">\n",
       "      <th></th>\n",
       "      <th>appearance_id</th>\n",
       "      <th>game_id</th>\n",
       "      <th>player_id</th>\n",
       "      <th>player_club_id</th>\n",
       "      <th>player_current_club_id</th>\n",
       "      <th>date</th>\n",
       "      <th>player_name</th>\n",
       "      <th>competition_id</th>\n",
       "      <th>yellow_cards</th>\n",
       "      <th>red_cards</th>\n",
       "      <th>goals</th>\n",
       "      <th>assists</th>\n",
       "      <th>minutes_played</th>\n",
       "    </tr>\n",
       "  </thead>\n",
       "  <tbody>\n",
       "    <tr>\n",
       "      <th>0</th>\n",
       "      <td>2231978_38004</td>\n",
       "      <td>2231978</td>\n",
       "      <td>38004</td>\n",
       "      <td>853</td>\n",
       "      <td>235</td>\n",
       "      <td>2012-07-03</td>\n",
       "      <td>Aurélien Joachim</td>\n",
       "      <td>CLQ</td>\n",
       "      <td>0</td>\n",
       "      <td>0</td>\n",
       "      <td>2</td>\n",
       "      <td>0</td>\n",
       "      <td>90</td>\n",
       "    </tr>\n",
       "    <tr>\n",
       "      <th>1</th>\n",
       "      <td>2233748_79232</td>\n",
       "      <td>2233748</td>\n",
       "      <td>79232</td>\n",
       "      <td>8841</td>\n",
       "      <td>2698</td>\n",
       "      <td>2012-07-05</td>\n",
       "      <td>Ruslan Abyshov</td>\n",
       "      <td>ELQ</td>\n",
       "      <td>0</td>\n",
       "      <td>0</td>\n",
       "      <td>0</td>\n",
       "      <td>0</td>\n",
       "      <td>90</td>\n",
       "    </tr>\n",
       "    <tr>\n",
       "      <th>2</th>\n",
       "      <td>2234413_42792</td>\n",
       "      <td>2234413</td>\n",
       "      <td>42792</td>\n",
       "      <td>6251</td>\n",
       "      <td>465</td>\n",
       "      <td>2012-07-05</td>\n",
       "      <td>Sander Puri</td>\n",
       "      <td>ELQ</td>\n",
       "      <td>0</td>\n",
       "      <td>0</td>\n",
       "      <td>0</td>\n",
       "      <td>0</td>\n",
       "      <td>45</td>\n",
       "    </tr>\n",
       "    <tr>\n",
       "      <th>3</th>\n",
       "      <td>2234418_73333</td>\n",
       "      <td>2234418</td>\n",
       "      <td>73333</td>\n",
       "      <td>1274</td>\n",
       "      <td>6646</td>\n",
       "      <td>2012-07-05</td>\n",
       "      <td>Vegar Hedenstad</td>\n",
       "      <td>ELQ</td>\n",
       "      <td>0</td>\n",
       "      <td>0</td>\n",
       "      <td>0</td>\n",
       "      <td>0</td>\n",
       "      <td>90</td>\n",
       "    </tr>\n",
       "    <tr>\n",
       "      <th>4</th>\n",
       "      <td>2234421_122011</td>\n",
       "      <td>2234421</td>\n",
       "      <td>122011</td>\n",
       "      <td>195</td>\n",
       "      <td>3008</td>\n",
       "      <td>2012-07-05</td>\n",
       "      <td>Markus Henriksen</td>\n",
       "      <td>ELQ</td>\n",
       "      <td>0</td>\n",
       "      <td>0</td>\n",
       "      <td>0</td>\n",
       "      <td>1</td>\n",
       "      <td>90</td>\n",
       "    </tr>\n",
       "  </tbody>\n",
       "</table>\n",
       "</div>"
      ],
      "text/plain": [
       "    appearance_id  game_id  player_id  player_club_id  player_current_club_id  \\\n",
       "0   2231978_38004  2231978      38004             853                     235   \n",
       "1   2233748_79232  2233748      79232            8841                    2698   \n",
       "2   2234413_42792  2234413      42792            6251                     465   \n",
       "3   2234418_73333  2234418      73333            1274                    6646   \n",
       "4  2234421_122011  2234421     122011             195                    3008   \n",
       "\n",
       "         date       player_name competition_id  yellow_cards  red_cards  \\\n",
       "0  2012-07-03  Aurélien Joachim            CLQ             0          0   \n",
       "1  2012-07-05    Ruslan Abyshov            ELQ             0          0   \n",
       "2  2012-07-05       Sander Puri            ELQ             0          0   \n",
       "3  2012-07-05   Vegar Hedenstad            ELQ             0          0   \n",
       "4  2012-07-05  Markus Henriksen            ELQ             0          0   \n",
       "\n",
       "   goals  assists  minutes_played  \n",
       "0      2        0              90  \n",
       "1      0        0              90  \n",
       "2      0        0              45  \n",
       "3      0        0              90  \n",
       "4      0        1              90  "
      ]
     },
     "execution_count": 3,
     "metadata": {},
     "output_type": "execute_result"
    }
   ],
   "source": [
    "df.head()"
   ]
  },
  {
   "cell_type": "markdown",
   "id": "59645a6e",
   "metadata": {},
   "source": [
    "# Dataset bilan tanishib chiqish"
   ]
  },
  {
   "cell_type": "code",
   "execution_count": null,
   "id": "06b9e7d9",
   "metadata": {},
   "outputs": [],
   "source": [
    "# Undan keyin qiladigan ishimiz \n",
    "# datasetdagi har bir feature manosini tushunish\n",
    "# Keraksiz bolgan yoki o'xshash bolgan ustunlarni tashlab yuborish"
   ]
  },
  {
   "cell_type": "code",
   "execution_count": null,
   "id": "a4bf1ec4",
   "metadata": {},
   "outputs": [],
   "source": [
    "# bizda featurlarimiz ichida keraksiz datamiz \"player_name\" datamiz ekan\n",
    "# oshani uchun uni drop qilib tashlaymiz\n",
    "\n",
    "df.drop('player_name',axis=1,inplace=True)"
   ]
  },
  {
   "cell_type": "code",
   "execution_count": 5,
   "id": "f960d2eb",
   "metadata": {},
   "outputs": [
    {
     "data": {
      "text/html": [
       "<div>\n",
       "<style scoped>\n",
       "    .dataframe tbody tr th:only-of-type {\n",
       "        vertical-align: middle;\n",
       "    }\n",
       "\n",
       "    .dataframe tbody tr th {\n",
       "        vertical-align: top;\n",
       "    }\n",
       "\n",
       "    .dataframe thead th {\n",
       "        text-align: right;\n",
       "    }\n",
       "</style>\n",
       "<table border=\"1\" class=\"dataframe\">\n",
       "  <thead>\n",
       "    <tr style=\"text-align: right;\">\n",
       "      <th></th>\n",
       "      <th>appearance_id</th>\n",
       "      <th>game_id</th>\n",
       "      <th>player_id</th>\n",
       "      <th>player_club_id</th>\n",
       "      <th>player_current_club_id</th>\n",
       "      <th>date</th>\n",
       "      <th>competition_id</th>\n",
       "      <th>yellow_cards</th>\n",
       "      <th>red_cards</th>\n",
       "      <th>goals</th>\n",
       "      <th>assists</th>\n",
       "      <th>minutes_played</th>\n",
       "    </tr>\n",
       "  </thead>\n",
       "  <tbody>\n",
       "    <tr>\n",
       "      <th>0</th>\n",
       "      <td>2231978_38004</td>\n",
       "      <td>2231978</td>\n",
       "      <td>38004</td>\n",
       "      <td>853</td>\n",
       "      <td>235</td>\n",
       "      <td>2012-07-03</td>\n",
       "      <td>CLQ</td>\n",
       "      <td>0</td>\n",
       "      <td>0</td>\n",
       "      <td>2</td>\n",
       "      <td>0</td>\n",
       "      <td>90</td>\n",
       "    </tr>\n",
       "    <tr>\n",
       "      <th>1</th>\n",
       "      <td>2233748_79232</td>\n",
       "      <td>2233748</td>\n",
       "      <td>79232</td>\n",
       "      <td>8841</td>\n",
       "      <td>2698</td>\n",
       "      <td>2012-07-05</td>\n",
       "      <td>ELQ</td>\n",
       "      <td>0</td>\n",
       "      <td>0</td>\n",
       "      <td>0</td>\n",
       "      <td>0</td>\n",
       "      <td>90</td>\n",
       "    </tr>\n",
       "    <tr>\n",
       "      <th>2</th>\n",
       "      <td>2234413_42792</td>\n",
       "      <td>2234413</td>\n",
       "      <td>42792</td>\n",
       "      <td>6251</td>\n",
       "      <td>465</td>\n",
       "      <td>2012-07-05</td>\n",
       "      <td>ELQ</td>\n",
       "      <td>0</td>\n",
       "      <td>0</td>\n",
       "      <td>0</td>\n",
       "      <td>0</td>\n",
       "      <td>45</td>\n",
       "    </tr>\n",
       "    <tr>\n",
       "      <th>3</th>\n",
       "      <td>2234418_73333</td>\n",
       "      <td>2234418</td>\n",
       "      <td>73333</td>\n",
       "      <td>1274</td>\n",
       "      <td>6646</td>\n",
       "      <td>2012-07-05</td>\n",
       "      <td>ELQ</td>\n",
       "      <td>0</td>\n",
       "      <td>0</td>\n",
       "      <td>0</td>\n",
       "      <td>0</td>\n",
       "      <td>90</td>\n",
       "    </tr>\n",
       "    <tr>\n",
       "      <th>4</th>\n",
       "      <td>2234421_122011</td>\n",
       "      <td>2234421</td>\n",
       "      <td>122011</td>\n",
       "      <td>195</td>\n",
       "      <td>3008</td>\n",
       "      <td>2012-07-05</td>\n",
       "      <td>ELQ</td>\n",
       "      <td>0</td>\n",
       "      <td>0</td>\n",
       "      <td>0</td>\n",
       "      <td>1</td>\n",
       "      <td>90</td>\n",
       "    </tr>\n",
       "  </tbody>\n",
       "</table>\n",
       "</div>"
      ],
      "text/plain": [
       "    appearance_id  game_id  player_id  player_club_id  player_current_club_id  \\\n",
       "0   2231978_38004  2231978      38004             853                     235   \n",
       "1   2233748_79232  2233748      79232            8841                    2698   \n",
       "2   2234413_42792  2234413      42792            6251                     465   \n",
       "3   2234418_73333  2234418      73333            1274                    6646   \n",
       "4  2234421_122011  2234421     122011             195                    3008   \n",
       "\n",
       "         date competition_id  yellow_cards  red_cards  goals  assists  \\\n",
       "0  2012-07-03            CLQ             0          0      2        0   \n",
       "1  2012-07-05            ELQ             0          0      0        0   \n",
       "2  2012-07-05            ELQ             0          0      0        0   \n",
       "3  2012-07-05            ELQ             0          0      0        0   \n",
       "4  2012-07-05            ELQ             0          0      0        1   \n",
       "\n",
       "   minutes_played  \n",
       "0              90  \n",
       "1              90  \n",
       "2              45  \n",
       "3              90  \n",
       "4              90  "
      ]
     },
     "execution_count": 5,
     "metadata": {},
     "output_type": "execute_result"
    }
   ],
   "source": [
    "df.head()"
   ]
  },
  {
   "cell_type": "markdown",
   "id": "bdc4b21b",
   "metadata": {},
   "source": [
    "# Datasetni Preprocessing qilish"
   ]
  },
  {
   "cell_type": "code",
   "execution_count": null,
   "id": "60a9d84b",
   "metadata": {},
   "outputs": [
    {
     "data": {
      "text/plain": [
       "appearance_id             0\n",
       "game_id                   0\n",
       "player_id                 0\n",
       "player_club_id            0\n",
       "player_current_club_id    0\n",
       "date                      0\n",
       "competition_id            0\n",
       "yellow_cards              0\n",
       "red_cards                 0\n",
       "goals                     0\n",
       "assists                   0\n",
       "minutes_played            0\n",
       "dtype: int64"
      ]
     },
     "execution_count": 7,
     "metadata": {},
     "output_type": "execute_result"
    }
   ],
   "source": [
    "# bu kodimizda bizni datamizda tushurib qoldirilgan\n",
    "# qiymatlar borligini tekshirib olamiz\n",
    "# korinib turgandek bizni datamizda tushunrib qoldirilgan qiymatlar yoq ekan\n",
    "\n",
    "df.isnull().sum()"
   ]
  },
  {
   "cell_type": "code",
   "execution_count": 70,
   "id": "ee21450f",
   "metadata": {},
   "outputs": [],
   "source": [
    "# Encoding qilish\n",
    "# bu yerda biz matnli bolgan qiymatlarni numerical qiymatlarga otqazamiz\n",
    "\n",
    "from sklearn.preprocessing import LabelEncoder\n",
    "def encodla(df):\n",
    "    encoder=LabelEncoder()\n",
    "    for col in df.columns:\n",
    "        if df[col].dtype=='object':\n",
    "            if df[col].nunique()<5:\n",
    "                dummies=pd.get_dummies(df[col],prefix=col,dtype=int)\n",
    "                df=pd.concat([df.drop(columns=[col]),dummies],axis=1)\n",
    "            else:\n",
    "                df[col]=encoder.fit_transform(df[col])\n",
    "    return df"
   ]
  },
  {
   "cell_type": "code",
   "execution_count": 9,
   "id": "81e2e941",
   "metadata": {},
   "outputs": [],
   "source": [
    "df=encodla(df)"
   ]
  },
  {
   "cell_type": "code",
   "execution_count": 10,
   "id": "ae34e367",
   "metadata": {},
   "outputs": [
    {
     "data": {
      "text/html": [
       "<div>\n",
       "<style scoped>\n",
       "    .dataframe tbody tr th:only-of-type {\n",
       "        vertical-align: middle;\n",
       "    }\n",
       "\n",
       "    .dataframe tbody tr th {\n",
       "        vertical-align: top;\n",
       "    }\n",
       "\n",
       "    .dataframe thead th {\n",
       "        text-align: right;\n",
       "    }\n",
       "</style>\n",
       "<table border=\"1\" class=\"dataframe\">\n",
       "  <thead>\n",
       "    <tr style=\"text-align: right;\">\n",
       "      <th></th>\n",
       "      <th>appearance_id</th>\n",
       "      <th>game_id</th>\n",
       "      <th>player_id</th>\n",
       "      <th>player_club_id</th>\n",
       "      <th>player_current_club_id</th>\n",
       "      <th>date</th>\n",
       "      <th>competition_id</th>\n",
       "      <th>yellow_cards</th>\n",
       "      <th>red_cards</th>\n",
       "      <th>goals</th>\n",
       "      <th>assists</th>\n",
       "      <th>minutes_played</th>\n",
       "    </tr>\n",
       "  </thead>\n",
       "  <tbody>\n",
       "    <tr>\n",
       "      <th>0</th>\n",
       "      <td>55694</td>\n",
       "      <td>2231978</td>\n",
       "      <td>38004</td>\n",
       "      <td>853</td>\n",
       "      <td>235</td>\n",
       "      <td>0</td>\n",
       "      <td>6</td>\n",
       "      <td>0</td>\n",
       "      <td>0</td>\n",
       "      <td>2</td>\n",
       "      <td>0</td>\n",
       "      <td>90</td>\n",
       "    </tr>\n",
       "    <tr>\n",
       "      <th>1</th>\n",
       "      <td>55741</td>\n",
       "      <td>2233748</td>\n",
       "      <td>79232</td>\n",
       "      <td>8841</td>\n",
       "      <td>2698</td>\n",
       "      <td>1</td>\n",
       "      <td>13</td>\n",
       "      <td>0</td>\n",
       "      <td>0</td>\n",
       "      <td>0</td>\n",
       "      <td>0</td>\n",
       "      <td>90</td>\n",
       "    </tr>\n",
       "    <tr>\n",
       "      <th>2</th>\n",
       "      <td>55775</td>\n",
       "      <td>2234413</td>\n",
       "      <td>42792</td>\n",
       "      <td>6251</td>\n",
       "      <td>465</td>\n",
       "      <td>1</td>\n",
       "      <td>13</td>\n",
       "      <td>0</td>\n",
       "      <td>0</td>\n",
       "      <td>0</td>\n",
       "      <td>0</td>\n",
       "      <td>45</td>\n",
       "    </tr>\n",
       "    <tr>\n",
       "      <th>3</th>\n",
       "      <td>55776</td>\n",
       "      <td>2234418</td>\n",
       "      <td>73333</td>\n",
       "      <td>1274</td>\n",
       "      <td>6646</td>\n",
       "      <td>1</td>\n",
       "      <td>13</td>\n",
       "      <td>0</td>\n",
       "      <td>0</td>\n",
       "      <td>0</td>\n",
       "      <td>0</td>\n",
       "      <td>90</td>\n",
       "    </tr>\n",
       "    <tr>\n",
       "      <th>4</th>\n",
       "      <td>55777</td>\n",
       "      <td>2234421</td>\n",
       "      <td>122011</td>\n",
       "      <td>195</td>\n",
       "      <td>3008</td>\n",
       "      <td>1</td>\n",
       "      <td>13</td>\n",
       "      <td>0</td>\n",
       "      <td>0</td>\n",
       "      <td>0</td>\n",
       "      <td>1</td>\n",
       "      <td>90</td>\n",
       "    </tr>\n",
       "  </tbody>\n",
       "</table>\n",
       "</div>"
      ],
      "text/plain": [
       "   appearance_id  game_id  player_id  player_club_id  player_current_club_id  \\\n",
       "0          55694  2231978      38004             853                     235   \n",
       "1          55741  2233748      79232            8841                    2698   \n",
       "2          55775  2234413      42792            6251                     465   \n",
       "3          55776  2234418      73333            1274                    6646   \n",
       "4          55777  2234421     122011             195                    3008   \n",
       "\n",
       "   date  competition_id  yellow_cards  red_cards  goals  assists  \\\n",
       "0     0               6             0          0      2        0   \n",
       "1     1              13             0          0      0        0   \n",
       "2     1              13             0          0      0        0   \n",
       "3     1              13             0          0      0        0   \n",
       "4     1              13             0          0      0        1   \n",
       "\n",
       "   minutes_played  \n",
       "0              90  \n",
       "1              90  \n",
       "2              45  \n",
       "3              90  \n",
       "4              90  "
      ]
     },
     "execution_count": 10,
     "metadata": {},
     "output_type": "execute_result"
    }
   ],
   "source": [
    "df.head()"
   ]
  },
  {
   "cell_type": "code",
   "execution_count": 11,
   "id": "d9f203b4",
   "metadata": {},
   "outputs": [
    {
     "name": "stdout",
     "output_type": "stream",
     "text": [
      "<class 'pandas.core.frame.DataFrame'>\n",
      "RangeIndex: 1706806 entries, 0 to 1706805\n",
      "Data columns (total 12 columns):\n",
      " #   Column                  Dtype\n",
      "---  ------                  -----\n",
      " 0   appearance_id           int32\n",
      " 1   game_id                 int64\n",
      " 2   player_id               int64\n",
      " 3   player_club_id          int64\n",
      " 4   player_current_club_id  int64\n",
      " 5   date                    int32\n",
      " 6   competition_id          int32\n",
      " 7   yellow_cards            int64\n",
      " 8   red_cards               int64\n",
      " 9   goals                   int64\n",
      " 10  assists                 int64\n",
      " 11  minutes_played          int64\n",
      "dtypes: int32(3), int64(9)\n",
      "memory usage: 136.7 MB\n"
     ]
    }
   ],
   "source": [
    "df.info()"
   ]
  },
  {
   "cell_type": "code",
   "execution_count": null,
   "id": "4adf1e3d",
   "metadata": {},
   "outputs": [],
   "source": [
    "# Scaling qilish\n",
    "# keyin esa biz modellarimizni scaling qilamiz yani datalarimizni 1 va 2 oralig'iga keltirib olamiz\n",
    "\n",
    "from sklearn.preprocessing import MinMaxScaler\n",
    "def scaling_qil(df):\n",
    "    scaler=MinMaxScaler()\n",
    "    num_col=df.select_dtypes(include=['int32','int64']).columns.drop('goals')\n",
    "    df[num_col]=scaler.fit_transform(df[num_col])\n",
    "    return df\n"
   ]
  },
  {
   "cell_type": "code",
   "execution_count": 13,
   "id": "794dce78",
   "metadata": {},
   "outputs": [],
   "source": [
    "df=scaling_qil(df)"
   ]
  },
  {
   "cell_type": "code",
   "execution_count": 71,
   "id": "d1da3c4c",
   "metadata": {},
   "outputs": [
    {
     "data": {
      "text/html": [
       "<div>\n",
       "<style scoped>\n",
       "    .dataframe tbody tr th:only-of-type {\n",
       "        vertical-align: middle;\n",
       "    }\n",
       "\n",
       "    .dataframe tbody tr th {\n",
       "        vertical-align: top;\n",
       "    }\n",
       "\n",
       "    .dataframe thead th {\n",
       "        text-align: right;\n",
       "    }\n",
       "</style>\n",
       "<table border=\"1\" class=\"dataframe\">\n",
       "  <thead>\n",
       "    <tr style=\"text-align: right;\">\n",
       "      <th></th>\n",
       "      <th>appearance_id</th>\n",
       "      <th>game_id</th>\n",
       "      <th>player_id</th>\n",
       "      <th>player_club_id</th>\n",
       "      <th>player_current_club_id</th>\n",
       "      <th>date</th>\n",
       "      <th>competition_id</th>\n",
       "      <th>yellow_cards</th>\n",
       "      <th>red_cards</th>\n",
       "      <th>goals</th>\n",
       "      <th>assists</th>\n",
       "      <th>minutes_played</th>\n",
       "    </tr>\n",
       "  </thead>\n",
       "  <tbody>\n",
       "    <tr>\n",
       "      <th>0</th>\n",
       "      <td>0.032631</td>\n",
       "      <td>0.008627</td>\n",
       "      <td>0.027515</td>\n",
       "      <td>0.007724</td>\n",
       "      <td>0.002140</td>\n",
       "      <td>0.000000</td>\n",
       "      <td>0.142857</td>\n",
       "      <td>0.0</td>\n",
       "      <td>0.0</td>\n",
       "      <td>2</td>\n",
       "      <td>0.000000</td>\n",
       "      <td>0.605442</td>\n",
       "    </tr>\n",
       "    <tr>\n",
       "      <th>1</th>\n",
       "      <td>0.032658</td>\n",
       "      <td>0.009377</td>\n",
       "      <td>0.057371</td>\n",
       "      <td>0.080144</td>\n",
       "      <td>0.024469</td>\n",
       "      <td>0.000268</td>\n",
       "      <td>0.309524</td>\n",
       "      <td>0.0</td>\n",
       "      <td>0.0</td>\n",
       "      <td>0</td>\n",
       "      <td>0.000000</td>\n",
       "      <td>0.605442</td>\n",
       "    </tr>\n",
       "    <tr>\n",
       "      <th>2</th>\n",
       "      <td>0.032678</td>\n",
       "      <td>0.009658</td>\n",
       "      <td>0.030982</td>\n",
       "      <td>0.056663</td>\n",
       "      <td>0.004225</td>\n",
       "      <td>0.000268</td>\n",
       "      <td>0.309524</td>\n",
       "      <td>0.0</td>\n",
       "      <td>0.0</td>\n",
       "      <td>0</td>\n",
       "      <td>0.000000</td>\n",
       "      <td>0.299320</td>\n",
       "    </tr>\n",
       "    <tr>\n",
       "      <th>3</th>\n",
       "      <td>0.032679</td>\n",
       "      <td>0.009660</td>\n",
       "      <td>0.053099</td>\n",
       "      <td>0.011541</td>\n",
       "      <td>0.060261</td>\n",
       "      <td>0.000268</td>\n",
       "      <td>0.309524</td>\n",
       "      <td>0.0</td>\n",
       "      <td>0.0</td>\n",
       "      <td>0</td>\n",
       "      <td>0.000000</td>\n",
       "      <td>0.605442</td>\n",
       "    </tr>\n",
       "    <tr>\n",
       "      <th>4</th>\n",
       "      <td>0.032679</td>\n",
       "      <td>0.009662</td>\n",
       "      <td>0.088351</td>\n",
       "      <td>0.001759</td>\n",
       "      <td>0.027279</td>\n",
       "      <td>0.000268</td>\n",
       "      <td>0.309524</td>\n",
       "      <td>0.0</td>\n",
       "      <td>0.0</td>\n",
       "      <td>0</td>\n",
       "      <td>0.166667</td>\n",
       "      <td>0.605442</td>\n",
       "    </tr>\n",
       "  </tbody>\n",
       "</table>\n",
       "</div>"
      ],
      "text/plain": [
       "   appearance_id   game_id  player_id  player_club_id  player_current_club_id  \\\n",
       "0       0.032631  0.008627   0.027515        0.007724                0.002140   \n",
       "1       0.032658  0.009377   0.057371        0.080144                0.024469   \n",
       "2       0.032678  0.009658   0.030982        0.056663                0.004225   \n",
       "3       0.032679  0.009660   0.053099        0.011541                0.060261   \n",
       "4       0.032679  0.009662   0.088351        0.001759                0.027279   \n",
       "\n",
       "       date  competition_id  yellow_cards  red_cards  goals   assists  \\\n",
       "0  0.000000        0.142857           0.0        0.0      2  0.000000   \n",
       "1  0.000268        0.309524           0.0        0.0      0  0.000000   \n",
       "2  0.000268        0.309524           0.0        0.0      0  0.000000   \n",
       "3  0.000268        0.309524           0.0        0.0      0  0.000000   \n",
       "4  0.000268        0.309524           0.0        0.0      0  0.166667   \n",
       "\n",
       "   minutes_played  \n",
       "0        0.605442  \n",
       "1        0.605442  \n",
       "2        0.299320  \n",
       "3        0.605442  \n",
       "4        0.605442  "
      ]
     },
     "execution_count": 71,
     "metadata": {},
     "output_type": "execute_result"
    }
   ],
   "source": [
    "# mana ko'rib turgandek datalarimiz 1 va 2 qiymatlar orasiga keldi\n",
    "\n",
    "df.head()"
   ]
  },
  {
   "cell_type": "code",
   "execution_count": null,
   "id": "5460c789",
   "metadata": {},
   "outputs": [],
   "source": [
    "# endi biz datalarimizni x va y qiymatlarga bolamiz\n",
    "x=df.drop('goals',axis=1)"
   ]
  },
  {
   "cell_type": "code",
   "execution_count": 22,
   "id": "a2e1149b",
   "metadata": {},
   "outputs": [],
   "source": [
    "y=df['goals']"
   ]
  },
  {
   "cell_type": "code",
   "execution_count": null,
   "id": "1ef6a732",
   "metadata": {},
   "outputs": [],
   "source": [
    "# bu yerda endi datalarimizni train va test qismiga bolin olamiz\n",
    "\n",
    "from sklearn.model_selection import  train_test_split"
   ]
  },
  {
   "cell_type": "code",
   "execution_count": null,
   "id": "c989c53d",
   "metadata": {},
   "outputs": [],
   "source": [
    "x_train, x_test,y_train, y_test=tru ain_test_split(x,y,test_size=0.3,random_state=42)"
   ]
  },
  {
   "cell_type": "code",
   "execution_count": null,
   "id": "1d842d98",
   "metadata": {},
   "outputs": [],
   "source": []
  },
  {
   "cell_type": "code",
   "execution_count": 29,
   "id": "d5302d6d",
   "metadata": {},
   "outputs": [
    {
     "data": {
      "text/plain": [
       "goals\n",
       "0    1560446\n",
       "1     130986\n",
       "2      13631\n",
       "3       1572\n",
       "4        147\n",
       "5         23\n",
       "6          1\n",
       "Name: count, dtype: int64"
      ]
     },
     "execution_count": 29,
     "metadata": {},
     "output_type": "execute_result"
    }
   ],
   "source": [
    "df['goals'].value_counts()"
   ]
  },
  {
   "cell_type": "code",
   "execution_count": 30,
   "id": "d8d88911",
   "metadata": {},
   "outputs": [
    {
     "name": "stdout",
     "output_type": "stream",
     "text": [
      "<class 'pandas.core.frame.DataFrame'>\n",
      "RangeIndex: 1706806 entries, 0 to 1706805\n",
      "Data columns (total 12 columns):\n",
      " #   Column                  Dtype  \n",
      "---  ------                  -----  \n",
      " 0   appearance_id           float64\n",
      " 1   game_id                 float64\n",
      " 2   player_id               float64\n",
      " 3   player_club_id          float64\n",
      " 4   player_current_club_id  float64\n",
      " 5   date                    float64\n",
      " 6   competition_id          float64\n",
      " 7   yellow_cards            float64\n",
      " 8   red_cards               float64\n",
      " 9   goals                   int64  \n",
      " 10  assists                 float64\n",
      " 11  minutes_played          float64\n",
      "dtypes: float64(11), int64(1)\n",
      "memory usage: 156.3 MB\n"
     ]
    }
   ],
   "source": [
    "df.info()"
   ]
  },
  {
   "cell_type": "markdown",
   "id": "c0e7ebf8",
   "metadata": {},
   "source": [
    "# Lenear Regression"
   ]
  },
  {
   "cell_type": "code",
   "execution_count": null,
   "id": "1ada70b4",
   "metadata": {},
   "outputs": [],
   "source": [
    "# bu yerda biz modelimizni chaqirayapmiz \n",
    "\n",
    "from sklearn.linear_model import LinearRegression\n",
    "lr_model=LinearRegression()"
   ]
  },
  {
   "cell_type": "code",
   "execution_count": null,
   "id": "b995f665",
   "metadata": {},
   "outputs": [
    {
     "data": {
      "text/plain": [
       "LinearRegression()"
      ]
     },
     "execution_count": 32,
     "metadata": {},
     "output_type": "execute_result"
    }
   ],
   "source": [
    "# bi chaqirib olgan modelimizni train qilamiz va modelimizni orgatamiz\n",
    "\n",
    "lr_model.fit(x_train,y_train)"
   ]
  },
  {
   "cell_type": "code",
   "execution_count": null,
   "id": "bc9e4d9b",
   "metadata": {},
   "outputs": [],
   "source": [
    "# va biz orgatilgn modelimizni predict qiib test qilayapmiz\n",
    "\n",
    "y_pred=lr_model.predict(x_test)"
   ]
  },
  {
   "cell_type": "code",
   "execution_count": 34,
   "id": "3de64960",
   "metadata": {},
   "outputs": [
    {
     "data": {
      "text/plain": [
       "array([0.0705823 , 0.11259353, 0.19249236, ..., 0.14086168, 0.10916532,\n",
       "       0.10377112])"
      ]
     },
     "execution_count": 34,
     "metadata": {},
     "output_type": "execute_result"
    }
   ],
   "source": [
    "y_pred"
   ]
  },
  {
   "cell_type": "code",
   "execution_count": null,
   "id": "fc9e590b",
   "metadata": {},
   "outputs": [],
   "source": [
    "# Model evaulation qilamiz biz bu bilan modelimiz qanchalik togri ishlayyotganini tekshiramiz\n",
    "\n",
    "from sklearn.metrics import  r2_score, mean_absolute_error,mean_squared_error"
   ]
  },
  {
   "cell_type": "code",
   "execution_count": 53,
   "id": "536b4244",
   "metadata": {},
   "outputs": [],
   "source": [
    "import numpy as np\n",
    "\n",
    "mse = mean_squared_error(y_test, y_pred)\n",
    "rmse = np.sqrt(mse)\n",
    "#print(\"RMSE:\", rmse)\n"
   ]
  },
  {
   "cell_type": "code",
   "execution_count": 54,
   "id": "9e53e353",
   "metadata": {},
   "outputs": [],
   "source": [
    "r2=r2_score(y_test,y_pred)\n",
    "mae=mean_absolute_error(y_test,y_pred)\n",
    "mse=mean_squared_error(y_test,y_pred)\n",
    "# rmse=root_mean_squared_error(y_test,y_pred)\n"
   ]
  },
  {
   "cell_type": "code",
   "execution_count": 55,
   "id": "eb6bca46",
   "metadata": {},
   "outputs": [
    {
     "name": "stdout",
     "output_type": "stream",
     "text": [
      "r2: 0.011327693596871136\n",
      "mae: 0.17356939789383716\n",
      "mse: 0.10910827735259494\n",
      "rmse: 0.3303154210033115\n"
     ]
    }
   ],
   "source": [
    "print('r2:',r2)\n",
    "print('mae:',mae)\n",
    "print('mse:',mse)\n",
    "print('rmse:',rmse)"
   ]
  },
  {
   "cell_type": "markdown",
   "id": "fef6bc33",
   "metadata": {},
   "source": [
    "# Logistic Regression"
   ]
  },
  {
   "cell_type": "code",
   "execution_count": null,
   "id": "f22749cb",
   "metadata": {},
   "outputs": [],
   "source": [
    "# Endi ikkinchi algorithm ligistic regression bilan tekshirib koramiz\n",
    "\n",
    "from sklearn.linear_model import LogisticRegression\n",
    "lg_reg=LogisticRegression()"
   ]
  },
  {
   "cell_type": "code",
   "execution_count": 57,
   "id": "3dff207c",
   "metadata": {},
   "outputs": [
    {
     "name": "stderr",
     "output_type": "stream",
     "text": [
      "c:\\Users\\pc\\anaconda3\\lib\\site-packages\\sklearn\\linear_model\\_logistic.py:763: ConvergenceWarning: lbfgs failed to converge (status=1):\n",
      "STOP: TOTAL NO. of ITERATIONS REACHED LIMIT.\n",
      "\n",
      "Increase the number of iterations (max_iter) or scale the data as shown in:\n",
      "    https://scikit-learn.org/stable/modules/preprocessing.html\n",
      "Please also refer to the documentation for alternative solver options:\n",
      "    https://scikit-learn.org/stable/modules/linear_model.html#logistic-regression\n",
      "  n_iter_i = _check_optimize_result(\n"
     ]
    },
    {
     "data": {
      "text/plain": [
       "LogisticRegression()"
      ]
     },
     "execution_count": 57,
     "metadata": {},
     "output_type": "execute_result"
    }
   ],
   "source": [
    "lg_reg.fit(x_train,y_train)"
   ]
  },
  {
   "cell_type": "code",
   "execution_count": 58,
   "id": "42dbffb8",
   "metadata": {},
   "outputs": [],
   "source": [
    "y_pred=lg_reg.predict(x_test)"
   ]
  },
  {
   "cell_type": "code",
   "execution_count": 60,
   "id": "fc9c2fa7",
   "metadata": {},
   "outputs": [],
   "source": [
    "from sklearn.metrics import classification_report"
   ]
  },
  {
   "cell_type": "code",
   "execution_count": 61,
   "id": "4408faf3",
   "metadata": {},
   "outputs": [
    {
     "name": "stderr",
     "output_type": "stream",
     "text": [
      "c:\\Users\\pc\\anaconda3\\lib\\site-packages\\sklearn\\metrics\\_classification.py:1245: UndefinedMetricWarning: Precision and F-score are ill-defined and being set to 0.0 in labels with no predicted samples. Use `zero_division` parameter to control this behavior.\n",
      "  _warn_prf(average, modifier, msg_start, len(result))\n",
      "c:\\Users\\pc\\anaconda3\\lib\\site-packages\\sklearn\\metrics\\_classification.py:1245: UndefinedMetricWarning: Precision and F-score are ill-defined and being set to 0.0 in labels with no predicted samples. Use `zero_division` parameter to control this behavior.\n",
      "  _warn_prf(average, modifier, msg_start, len(result))\n",
      "c:\\Users\\pc\\anaconda3\\lib\\site-packages\\sklearn\\metrics\\_classification.py:1245: UndefinedMetricWarning: Precision and F-score are ill-defined and being set to 0.0 in labels with no predicted samples. Use `zero_division` parameter to control this behavior.\n",
      "  _warn_prf(average, modifier, msg_start, len(result))\n"
     ]
    }
   ],
   "source": [
    "class_report=classification_report(y_test,y_pred)"
   ]
  },
  {
   "cell_type": "code",
   "execution_count": 65,
   "id": "a6298a0d",
   "metadata": {},
   "outputs": [
    {
     "name": "stdout",
     "output_type": "stream",
     "text": [
      "              precision    recall  f1-score   support\n",
      "\n",
      "           0       0.91      1.00      0.96    467980\n",
      "           1       1.00      0.00      0.00     39371\n",
      "           2       0.00      0.00      0.00      4150\n",
      "           3       0.00      0.00      0.00       488\n",
      "           4       0.00      0.00      0.00        47\n",
      "           5       0.00      0.00      0.00         6\n",
      "\n",
      "    accuracy                           0.91    512042\n",
      "   macro avg       0.32      0.17      0.16    512042\n",
      "weighted avg       0.91      0.91      0.87    512042\n",
      "\n"
     ]
    }
   ],
   "source": [
    "print(class_report)"
   ]
  },
  {
   "cell_type": "code",
   "execution_count": 66,
   "id": "8aeafe20",
   "metadata": {},
   "outputs": [],
   "source": [
    "from sklearn.metrics import accuracy_score"
   ]
  },
  {
   "cell_type": "code",
   "execution_count": 67,
   "id": "28b1c832",
   "metadata": {},
   "outputs": [],
   "source": [
    "acc_score=accuracy_score(y_test,y_pred)"
   ]
  },
  {
   "cell_type": "code",
   "execution_count": 68,
   "id": "c0332e26",
   "metadata": {},
   "outputs": [
    {
     "name": "stdout",
     "output_type": "stream",
     "text": [
      "0.9139504181297627\n"
     ]
    }
   ],
   "source": [
    "print(acc_score)"
   ]
  }
 ],
 "metadata": {
  "kernelspec": {
   "display_name": "base",
   "language": "python",
   "name": "python3"
  },
  "language_info": {
   "codemirror_mode": {
    "name": "ipython",
    "version": 3
   },
   "file_extension": ".py",
   "mimetype": "text/x-python",
   "name": "python",
   "nbconvert_exporter": "python",
   "pygments_lexer": "ipython3",
   "version": "3.8.8"
  }
 },
 "nbformat": 4,
 "nbformat_minor": 5
}
