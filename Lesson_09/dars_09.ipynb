{
 "cells": [
  {
   "cell_type": "code",
   "execution_count": 144,
   "id": "83cd24bf",
   "metadata": {},
   "outputs": [],
   "source": [
    "import pandas as pd"
   ]
  },
  {
   "cell_type": "code",
   "execution_count": 145,
   "id": "0a6bf66b",
   "metadata": {},
   "outputs": [],
   "source": [
    "df=pd.read_csv('Sleep_health_and_lifestyle_dataset.csv')"
   ]
  },
  {
   "cell_type": "code",
   "execution_count": 146,
   "id": "806698fb",
   "metadata": {},
   "outputs": [
    {
     "name": "stdout",
     "output_type": "stream",
     "text": [
      "<class 'pandas.core.frame.DataFrame'>\n",
      "RangeIndex: 374 entries, 0 to 373\n",
      "Data columns (total 13 columns):\n",
      " #   Column                   Non-Null Count  Dtype  \n",
      "---  ------                   --------------  -----  \n",
      " 0   Person ID                374 non-null    int64  \n",
      " 1   Gender                   374 non-null    object \n",
      " 2   Age                      374 non-null    int64  \n",
      " 3   Occupation               374 non-null    object \n",
      " 4   Sleep Duration           373 non-null    float64\n",
      " 5   Quality of Sleep         374 non-null    int64  \n",
      " 6   Physical Activity Level  374 non-null    object \n",
      " 7   Stress Level             374 non-null    object \n",
      " 8   BMI Category             373 non-null    object \n",
      " 9   Blood Pressure           371 non-null    object \n",
      " 10  Heart Rate               368 non-null    object \n",
      " 11  Daily Steps              367 non-null    float64\n",
      " 12  Sleep Disorder           153 non-null    object \n",
      "dtypes: float64(2), int64(3), object(8)\n",
      "memory usage: 38.1+ KB\n"
     ]
    }
   ],
   "source": [
    "df.info()"
   ]
  },
  {
   "cell_type": "code",
   "execution_count": 147,
   "id": "ecfbbf43",
   "metadata": {},
   "outputs": [
    {
     "data": {
      "text/plain": [
       "Person ID                    0\n",
       "Gender                       0\n",
       "Age                          0\n",
       "Occupation                   0\n",
       "Sleep Duration               1\n",
       "Quality of Sleep             0\n",
       "Physical Activity Level      0\n",
       "Stress Level                 0\n",
       "BMI Category                 1\n",
       "Blood Pressure               3\n",
       "Heart Rate                   6\n",
       "Daily Steps                  7\n",
       "Sleep Disorder             221\n",
       "dtype: int64"
      ]
     },
     "execution_count": 147,
     "metadata": {},
     "output_type": "execute_result"
    }
   ],
   "source": [
    "df.isnull().sum()"
   ]
  },
  {
   "cell_type": "code",
   "execution_count": 148,
   "id": "c8f4bf58",
   "metadata": {},
   "outputs": [],
   "source": [
    "# data preprocessing "
   ]
  },
  {
   "cell_type": "code",
   "execution_count": 149,
   "id": "de313b7f",
   "metadata": {},
   "outputs": [],
   "source": [
    "def toldir(df):\n",
    "    for col in df.columns:\n",
    "        if df[col].isnull().any():\n",
    "            if df[col].dtype=='object':\n",
    "                df[col].fillna(df[col].mode()[0],inplace=True)\n",
    "            else:\n",
    "                df[col].fillna(df[col].mean(),inplace=True)\n",
    "    return df"
   ]
  },
  {
   "cell_type": "code",
   "execution_count": 150,
   "id": "6f508768",
   "metadata": {},
   "outputs": [
    {
     "data": {
      "text/html": [
       "<div>\n",
       "<style scoped>\n",
       "    .dataframe tbody tr th:only-of-type {\n",
       "        vertical-align: middle;\n",
       "    }\n",
       "\n",
       "    .dataframe tbody tr th {\n",
       "        vertical-align: top;\n",
       "    }\n",
       "\n",
       "    .dataframe thead th {\n",
       "        text-align: right;\n",
       "    }\n",
       "</style>\n",
       "<table border=\"1\" class=\"dataframe\">\n",
       "  <thead>\n",
       "    <tr style=\"text-align: right;\">\n",
       "      <th></th>\n",
       "      <th>Person ID</th>\n",
       "      <th>Gender</th>\n",
       "      <th>Age</th>\n",
       "      <th>Occupation</th>\n",
       "      <th>Sleep Duration</th>\n",
       "      <th>Quality of Sleep</th>\n",
       "      <th>Physical Activity Level</th>\n",
       "      <th>Stress Level</th>\n",
       "      <th>BMI Category</th>\n",
       "      <th>Blood Pressure</th>\n",
       "      <th>Heart Rate</th>\n",
       "      <th>Daily Steps</th>\n",
       "      <th>Sleep Disorder</th>\n",
       "    </tr>\n",
       "  </thead>\n",
       "  <tbody>\n",
       "    <tr>\n",
       "      <th>0</th>\n",
       "      <td>1</td>\n",
       "      <td>Male</td>\n",
       "      <td>27</td>\n",
       "      <td>Software Engineer</td>\n",
       "      <td>6.1</td>\n",
       "      <td>6</td>\n",
       "      <td>42</td>\n",
       "      <td>6</td>\n",
       "      <td>Overweight</td>\n",
       "      <td>126/83</td>\n",
       "      <td>77</td>\n",
       "      <td>4200.000000</td>\n",
       "      <td>Insomnia</td>\n",
       "    </tr>\n",
       "    <tr>\n",
       "      <th>1</th>\n",
       "      <td>2</td>\n",
       "      <td>Male</td>\n",
       "      <td>28</td>\n",
       "      <td>Doctor</td>\n",
       "      <td>6.2</td>\n",
       "      <td>6</td>\n",
       "      <td>60</td>\n",
       "      <td>8</td>\n",
       "      <td>Normal</td>\n",
       "      <td>125/80</td>\n",
       "      <td>75</td>\n",
       "      <td>10000.000000</td>\n",
       "      <td>Insomnia</td>\n",
       "    </tr>\n",
       "    <tr>\n",
       "      <th>2</th>\n",
       "      <td>3</td>\n",
       "      <td>Male</td>\n",
       "      <td>28</td>\n",
       "      <td>Doctor</td>\n",
       "      <td>6.2</td>\n",
       "      <td>6</td>\n",
       "      <td>60</td>\n",
       "      <td>8</td>\n",
       "      <td>Normal</td>\n",
       "      <td>125/80</td>\n",
       "      <td>75</td>\n",
       "      <td>10000.000000</td>\n",
       "      <td>Insomnia</td>\n",
       "    </tr>\n",
       "    <tr>\n",
       "      <th>3</th>\n",
       "      <td>4</td>\n",
       "      <td>Male</td>\n",
       "      <td>28</td>\n",
       "      <td>Sales Representative</td>\n",
       "      <td>5.9</td>\n",
       "      <td>4</td>\n",
       "      <td>30</td>\n",
       "      <td>8</td>\n",
       "      <td>Obese</td>\n",
       "      <td>140/90</td>\n",
       "      <td>85</td>\n",
       "      <td>3000.000000</td>\n",
       "      <td>Sleep Apnea</td>\n",
       "    </tr>\n",
       "    <tr>\n",
       "      <th>4</th>\n",
       "      <td>5</td>\n",
       "      <td>Male</td>\n",
       "      <td>28</td>\n",
       "      <td>Sales Representative</td>\n",
       "      <td>5.9</td>\n",
       "      <td>4</td>\n",
       "      <td>30</td>\n",
       "      <td>8</td>\n",
       "      <td>Sleep Apnea</td>\n",
       "      <td>130/85</td>\n",
       "      <td>68</td>\n",
       "      <td>6807.901907</td>\n",
       "      <td>Insomnia</td>\n",
       "    </tr>\n",
       "    <tr>\n",
       "      <th>...</th>\n",
       "      <td>...</td>\n",
       "      <td>...</td>\n",
       "      <td>...</td>\n",
       "      <td>...</td>\n",
       "      <td>...</td>\n",
       "      <td>...</td>\n",
       "      <td>...</td>\n",
       "      <td>...</td>\n",
       "      <td>...</td>\n",
       "      <td>...</td>\n",
       "      <td>...</td>\n",
       "      <td>...</td>\n",
       "      <td>...</td>\n",
       "    </tr>\n",
       "    <tr>\n",
       "      <th>369</th>\n",
       "      <td>370</td>\n",
       "      <td>Female</td>\n",
       "      <td>59</td>\n",
       "      <td>Nurse</td>\n",
       "      <td>8.1</td>\n",
       "      <td>9</td>\n",
       "      <td>75</td>\n",
       "      <td>3</td>\n",
       "      <td>Overweight</td>\n",
       "      <td>140/95</td>\n",
       "      <td>68</td>\n",
       "      <td>7000.000000</td>\n",
       "      <td>Sleep Apnea</td>\n",
       "    </tr>\n",
       "    <tr>\n",
       "      <th>370</th>\n",
       "      <td>371</td>\n",
       "      <td>Female</td>\n",
       "      <td>59</td>\n",
       "      <td>Nurse</td>\n",
       "      <td>8.0</td>\n",
       "      <td>9</td>\n",
       "      <td>75</td>\n",
       "      <td>3</td>\n",
       "      <td>Overweight</td>\n",
       "      <td>140/95</td>\n",
       "      <td>68</td>\n",
       "      <td>7000.000000</td>\n",
       "      <td>Sleep Apnea</td>\n",
       "    </tr>\n",
       "    <tr>\n",
       "      <th>371</th>\n",
       "      <td>372</td>\n",
       "      <td>Female</td>\n",
       "      <td>59</td>\n",
       "      <td>Nurse</td>\n",
       "      <td>8.1</td>\n",
       "      <td>9</td>\n",
       "      <td>75</td>\n",
       "      <td>3</td>\n",
       "      <td>Overweight</td>\n",
       "      <td>140/95</td>\n",
       "      <td>68</td>\n",
       "      <td>7000.000000</td>\n",
       "      <td>Sleep Apnea</td>\n",
       "    </tr>\n",
       "    <tr>\n",
       "      <th>372</th>\n",
       "      <td>373</td>\n",
       "      <td>Female</td>\n",
       "      <td>59</td>\n",
       "      <td>Nurse</td>\n",
       "      <td>8.1</td>\n",
       "      <td>9</td>\n",
       "      <td>75</td>\n",
       "      <td>3</td>\n",
       "      <td>Overweight</td>\n",
       "      <td>140/95</td>\n",
       "      <td>68</td>\n",
       "      <td>7000.000000</td>\n",
       "      <td>Sleep Apnea</td>\n",
       "    </tr>\n",
       "    <tr>\n",
       "      <th>373</th>\n",
       "      <td>374</td>\n",
       "      <td>Female</td>\n",
       "      <td>59</td>\n",
       "      <td>Nurse</td>\n",
       "      <td>8.1</td>\n",
       "      <td>9</td>\n",
       "      <td>75</td>\n",
       "      <td>3</td>\n",
       "      <td>Overweight</td>\n",
       "      <td>140/95</td>\n",
       "      <td>68</td>\n",
       "      <td>7000.000000</td>\n",
       "      <td>Sleep Apnea</td>\n",
       "    </tr>\n",
       "  </tbody>\n",
       "</table>\n",
       "<p>374 rows × 13 columns</p>\n",
       "</div>"
      ],
      "text/plain": [
       "     Person ID  Gender  Age            Occupation  Sleep Duration  \\\n",
       "0            1    Male   27     Software Engineer             6.1   \n",
       "1            2    Male   28                Doctor             6.2   \n",
       "2            3    Male   28                Doctor             6.2   \n",
       "3            4    Male   28  Sales Representative             5.9   \n",
       "4            5    Male   28  Sales Representative             5.9   \n",
       "..         ...     ...  ...                   ...             ...   \n",
       "369        370  Female   59                 Nurse             8.1   \n",
       "370        371  Female   59                 Nurse             8.0   \n",
       "371        372  Female   59                 Nurse             8.1   \n",
       "372        373  Female   59                 Nurse             8.1   \n",
       "373        374  Female   59                 Nurse             8.1   \n",
       "\n",
       "     Quality of Sleep Physical Activity Level Stress Level BMI Category  \\\n",
       "0                   6                      42            6   Overweight   \n",
       "1                   6                      60            8       Normal   \n",
       "2                   6                      60            8       Normal   \n",
       "3                   4                      30            8        Obese   \n",
       "4                   4                      30            8  Sleep Apnea   \n",
       "..                ...                     ...          ...          ...   \n",
       "369                 9                      75            3   Overweight   \n",
       "370                 9                      75            3   Overweight   \n",
       "371                 9                      75            3   Overweight   \n",
       "372                 9                      75            3   Overweight   \n",
       "373                 9                      75            3   Overweight   \n",
       "\n",
       "    Blood Pressure Heart Rate   Daily Steps Sleep Disorder  \n",
       "0           126/83         77   4200.000000       Insomnia  \n",
       "1           125/80         75  10000.000000       Insomnia  \n",
       "2           125/80         75  10000.000000       Insomnia  \n",
       "3           140/90         85   3000.000000    Sleep Apnea  \n",
       "4           130/85         68   6807.901907       Insomnia  \n",
       "..             ...        ...           ...            ...  \n",
       "369         140/95         68   7000.000000    Sleep Apnea  \n",
       "370         140/95         68   7000.000000    Sleep Apnea  \n",
       "371         140/95         68   7000.000000    Sleep Apnea  \n",
       "372         140/95         68   7000.000000    Sleep Apnea  \n",
       "373         140/95         68   7000.000000    Sleep Apnea  \n",
       "\n",
       "[374 rows x 13 columns]"
      ]
     },
     "execution_count": 150,
     "metadata": {},
     "output_type": "execute_result"
    }
   ],
   "source": [
    "toldir(df)"
   ]
  },
  {
   "cell_type": "code",
   "execution_count": 151,
   "id": "9e0a080e",
   "metadata": {},
   "outputs": [
    {
     "data": {
      "text/plain": [
       "Person ID                  0\n",
       "Gender                     0\n",
       "Age                        0\n",
       "Occupation                 0\n",
       "Sleep Duration             0\n",
       "Quality of Sleep           0\n",
       "Physical Activity Level    0\n",
       "Stress Level               0\n",
       "BMI Category               0\n",
       "Blood Pressure             0\n",
       "Heart Rate                 0\n",
       "Daily Steps                0\n",
       "Sleep Disorder             0\n",
       "dtype: int64"
      ]
     },
     "execution_count": 151,
     "metadata": {},
     "output_type": "execute_result"
    }
   ],
   "source": [
    "df.isnull().sum()"
   ]
  },
  {
   "cell_type": "code",
   "execution_count": 152,
   "id": "7901f8a5",
   "metadata": {},
   "outputs": [
    {
     "name": "stdout",
     "output_type": "stream",
     "text": [
      "<class 'pandas.core.frame.DataFrame'>\n",
      "RangeIndex: 374 entries, 0 to 373\n",
      "Data columns (total 13 columns):\n",
      " #   Column                   Non-Null Count  Dtype  \n",
      "---  ------                   --------------  -----  \n",
      " 0   Person ID                374 non-null    int64  \n",
      " 1   Gender                   374 non-null    object \n",
      " 2   Age                      374 non-null    int64  \n",
      " 3   Occupation               374 non-null    object \n",
      " 4   Sleep Duration           374 non-null    float64\n",
      " 5   Quality of Sleep         374 non-null    int64  \n",
      " 6   Physical Activity Level  374 non-null    object \n",
      " 7   Stress Level             374 non-null    object \n",
      " 8   BMI Category             374 non-null    object \n",
      " 9   Blood Pressure           374 non-null    object \n",
      " 10  Heart Rate               374 non-null    object \n",
      " 11  Daily Steps              374 non-null    float64\n",
      " 12  Sleep Disorder           374 non-null    object \n",
      "dtypes: float64(2), int64(3), object(8)\n",
      "memory usage: 38.1+ KB\n"
     ]
    }
   ],
   "source": [
    "df.info()"
   ]
  },
  {
   "cell_type": "code",
   "execution_count": 153,
   "id": "1168e77d",
   "metadata": {},
   "outputs": [],
   "source": [
    "from sklearn.preprocessing import LabelEncoder\n",
    "import pandas as pd\n",
    "\n",
    "def encod(df):\n",
    "    df = df.copy()\n",
    "    for col in df.columns:\n",
    "        if df[col].dtype == 'object':\n",
    "            if df[col].nunique() <= 5:\n",
    "                dummies = pd.get_dummies(df[col], prefix=col, dtype=int)\n",
    "                df = pd.concat([df.drop(columns=[col]), dummies], axis=1)\n",
    "            else:\n",
    "                encoder = LabelEncoder()\n",
    "                df[col] = encoder.fit_transform(df[col])\n",
    "    return df\n"
   ]
  },
  {
   "cell_type": "code",
   "execution_count": 154,
   "id": "76d84616",
   "metadata": {},
   "outputs": [],
   "source": [
    "df=encod(df)"
   ]
  },
  {
   "cell_type": "code",
   "execution_count": 155,
   "id": "f0f127f8",
   "metadata": {},
   "outputs": [
    {
     "name": "stdout",
     "output_type": "stream",
     "text": [
      "<class 'pandas.core.frame.DataFrame'>\n",
      "RangeIndex: 374 entries, 0 to 373\n",
      "Data columns (total 15 columns):\n",
      " #   Column                      Non-Null Count  Dtype  \n",
      "---  ------                      --------------  -----  \n",
      " 0   Person ID                   374 non-null    int64  \n",
      " 1   Age                         374 non-null    int64  \n",
      " 2   Occupation                  374 non-null    int32  \n",
      " 3   Sleep Duration              374 non-null    float64\n",
      " 4   Quality of Sleep            374 non-null    int64  \n",
      " 5   Physical Activity Level     374 non-null    int32  \n",
      " 6   Stress Level                374 non-null    int32  \n",
      " 7   BMI Category                374 non-null    int32  \n",
      " 8   Blood Pressure              374 non-null    int32  \n",
      " 9   Heart Rate                  374 non-null    int32  \n",
      " 10  Daily Steps                 374 non-null    float64\n",
      " 11  Gender_Female               374 non-null    int32  \n",
      " 12  Gender_Male                 374 non-null    int32  \n",
      " 13  Sleep Disorder_Insomnia     374 non-null    int32  \n",
      " 14  Sleep Disorder_Sleep Apnea  374 non-null    int32  \n",
      "dtypes: float64(2), int32(10), int64(3)\n",
      "memory usage: 29.3 KB\n"
     ]
    }
   ],
   "source": [
    "df.info()"
   ]
  },
  {
   "cell_type": "code",
   "execution_count": 156,
   "id": "db4f0931",
   "metadata": {},
   "outputs": [
    {
     "data": {
      "text/plain": [
       "0      0\n",
       "1      0\n",
       "2      0\n",
       "3      1\n",
       "4      0\n",
       "      ..\n",
       "369    1\n",
       "370    1\n",
       "371    1\n",
       "372    1\n",
       "373    1\n",
       "Name: Sleep Disorder_Sleep Apnea, Length: 374, dtype: int32"
      ]
     },
     "execution_count": 156,
     "metadata": {},
     "output_type": "execute_result"
    }
   ],
   "source": [
    "df['Sleep Disorder_Sleep Apnea']"
   ]
  },
  {
   "cell_type": "code",
   "execution_count": 157,
   "id": "78395293",
   "metadata": {},
   "outputs": [],
   "source": [
    "from sklearn.preprocessing import MinMaxScaler\n",
    "scal = MinMaxScaler()"
   ]
  },
  {
   "cell_type": "code",
   "execution_count": 158,
   "id": "1aa6c617",
   "metadata": {},
   "outputs": [],
   "source": [
    "def scal_qil(df):\n",
    "    raqamlar = df.select_dtypes(include=['int64','int32','float64']).columns\n",
    "    df[raqamlar]=scal.fit_transform(df[raqamlar])\n",
    "    return df"
   ]
  },
  {
   "cell_type": "code",
   "execution_count": 159,
   "id": "be65cbbc",
   "metadata": {},
   "outputs": [
    {
     "data": {
      "text/html": [
       "<div>\n",
       "<style scoped>\n",
       "    .dataframe tbody tr th:only-of-type {\n",
       "        vertical-align: middle;\n",
       "    }\n",
       "\n",
       "    .dataframe tbody tr th {\n",
       "        vertical-align: top;\n",
       "    }\n",
       "\n",
       "    .dataframe thead th {\n",
       "        text-align: right;\n",
       "    }\n",
       "</style>\n",
       "<table border=\"1\" class=\"dataframe\">\n",
       "  <thead>\n",
       "    <tr style=\"text-align: right;\">\n",
       "      <th></th>\n",
       "      <th>Person ID</th>\n",
       "      <th>Age</th>\n",
       "      <th>Occupation</th>\n",
       "      <th>Sleep Duration</th>\n",
       "      <th>Quality of Sleep</th>\n",
       "      <th>Physical Activity Level</th>\n",
       "      <th>Stress Level</th>\n",
       "      <th>BMI Category</th>\n",
       "      <th>Blood Pressure</th>\n",
       "      <th>Heart Rate</th>\n",
       "      <th>Daily Steps</th>\n",
       "      <th>Gender_Female</th>\n",
       "      <th>Gender_Male</th>\n",
       "      <th>Sleep Disorder_Insomnia</th>\n",
       "      <th>Sleep Disorder_Sleep Apnea</th>\n",
       "    </tr>\n",
       "  </thead>\n",
       "  <tbody>\n",
       "    <tr>\n",
       "      <th>0</th>\n",
       "      <td>0.000000</td>\n",
       "      <td>0.00000</td>\n",
       "      <td>0.909091</td>\n",
       "      <td>0.004335</td>\n",
       "      <td>0.4</td>\n",
       "      <td>0.294118</td>\n",
       "      <td>0.571429</td>\n",
       "      <td>0.833333</td>\n",
       "      <td>0.44</td>\n",
       "      <td>0.526316</td>\n",
       "      <td>0.171429</td>\n",
       "      <td>0.0</td>\n",
       "      <td>1.0</td>\n",
       "      <td>1.0</td>\n",
       "      <td>0.0</td>\n",
       "    </tr>\n",
       "    <tr>\n",
       "      <th>1</th>\n",
       "      <td>0.002681</td>\n",
       "      <td>0.03125</td>\n",
       "      <td>0.181818</td>\n",
       "      <td>0.005780</td>\n",
       "      <td>0.4</td>\n",
       "      <td>0.588235</td>\n",
       "      <td>1.000000</td>\n",
       "      <td>0.333333</td>\n",
       "      <td>0.36</td>\n",
       "      <td>0.421053</td>\n",
       "      <td>1.000000</td>\n",
       "      <td>0.0</td>\n",
       "      <td>1.0</td>\n",
       "      <td>1.0</td>\n",
       "      <td>0.0</td>\n",
       "    </tr>\n",
       "    <tr>\n",
       "      <th>2</th>\n",
       "      <td>0.005362</td>\n",
       "      <td>0.03125</td>\n",
       "      <td>0.181818</td>\n",
       "      <td>0.005780</td>\n",
       "      <td>0.4</td>\n",
       "      <td>0.588235</td>\n",
       "      <td>1.000000</td>\n",
       "      <td>0.333333</td>\n",
       "      <td>0.36</td>\n",
       "      <td>0.421053</td>\n",
       "      <td>1.000000</td>\n",
       "      <td>0.0</td>\n",
       "      <td>1.0</td>\n",
       "      <td>1.0</td>\n",
       "      <td>0.0</td>\n",
       "    </tr>\n",
       "    <tr>\n",
       "      <th>3</th>\n",
       "      <td>0.008043</td>\n",
       "      <td>0.03125</td>\n",
       "      <td>0.636364</td>\n",
       "      <td>0.001445</td>\n",
       "      <td>0.0</td>\n",
       "      <td>0.058824</td>\n",
       "      <td>1.000000</td>\n",
       "      <td>0.666667</td>\n",
       "      <td>0.88</td>\n",
       "      <td>0.894737</td>\n",
       "      <td>0.000000</td>\n",
       "      <td>0.0</td>\n",
       "      <td>1.0</td>\n",
       "      <td>0.0</td>\n",
       "      <td>1.0</td>\n",
       "    </tr>\n",
       "    <tr>\n",
       "      <th>4</th>\n",
       "      <td>0.010724</td>\n",
       "      <td>0.03125</td>\n",
       "      <td>0.636364</td>\n",
       "      <td>0.001445</td>\n",
       "      <td>0.0</td>\n",
       "      <td>0.058824</td>\n",
       "      <td>1.000000</td>\n",
       "      <td>1.000000</td>\n",
       "      <td>0.60</td>\n",
       "      <td>0.105263</td>\n",
       "      <td>0.543986</td>\n",
       "      <td>0.0</td>\n",
       "      <td>1.0</td>\n",
       "      <td>1.0</td>\n",
       "      <td>0.0</td>\n",
       "    </tr>\n",
       "    <tr>\n",
       "      <th>...</th>\n",
       "      <td>...</td>\n",
       "      <td>...</td>\n",
       "      <td>...</td>\n",
       "      <td>...</td>\n",
       "      <td>...</td>\n",
       "      <td>...</td>\n",
       "      <td>...</td>\n",
       "      <td>...</td>\n",
       "      <td>...</td>\n",
       "      <td>...</td>\n",
       "      <td>...</td>\n",
       "      <td>...</td>\n",
       "      <td>...</td>\n",
       "      <td>...</td>\n",
       "      <td>...</td>\n",
       "    </tr>\n",
       "    <tr>\n",
       "      <th>369</th>\n",
       "      <td>0.989276</td>\n",
       "      <td>1.00000</td>\n",
       "      <td>0.545455</td>\n",
       "      <td>0.033237</td>\n",
       "      <td>1.0</td>\n",
       "      <td>0.764706</td>\n",
       "      <td>0.142857</td>\n",
       "      <td>0.833333</td>\n",
       "      <td>0.92</td>\n",
       "      <td>0.105263</td>\n",
       "      <td>0.571429</td>\n",
       "      <td>1.0</td>\n",
       "      <td>0.0</td>\n",
       "      <td>0.0</td>\n",
       "      <td>1.0</td>\n",
       "    </tr>\n",
       "    <tr>\n",
       "      <th>370</th>\n",
       "      <td>0.991957</td>\n",
       "      <td>1.00000</td>\n",
       "      <td>0.545455</td>\n",
       "      <td>0.031792</td>\n",
       "      <td>1.0</td>\n",
       "      <td>0.764706</td>\n",
       "      <td>0.142857</td>\n",
       "      <td>0.833333</td>\n",
       "      <td>0.92</td>\n",
       "      <td>0.105263</td>\n",
       "      <td>0.571429</td>\n",
       "      <td>1.0</td>\n",
       "      <td>0.0</td>\n",
       "      <td>0.0</td>\n",
       "      <td>1.0</td>\n",
       "    </tr>\n",
       "    <tr>\n",
       "      <th>371</th>\n",
       "      <td>0.994638</td>\n",
       "      <td>1.00000</td>\n",
       "      <td>0.545455</td>\n",
       "      <td>0.033237</td>\n",
       "      <td>1.0</td>\n",
       "      <td>0.764706</td>\n",
       "      <td>0.142857</td>\n",
       "      <td>0.833333</td>\n",
       "      <td>0.92</td>\n",
       "      <td>0.105263</td>\n",
       "      <td>0.571429</td>\n",
       "      <td>1.0</td>\n",
       "      <td>0.0</td>\n",
       "      <td>0.0</td>\n",
       "      <td>1.0</td>\n",
       "    </tr>\n",
       "    <tr>\n",
       "      <th>372</th>\n",
       "      <td>0.997319</td>\n",
       "      <td>1.00000</td>\n",
       "      <td>0.545455</td>\n",
       "      <td>0.033237</td>\n",
       "      <td>1.0</td>\n",
       "      <td>0.764706</td>\n",
       "      <td>0.142857</td>\n",
       "      <td>0.833333</td>\n",
       "      <td>0.92</td>\n",
       "      <td>0.105263</td>\n",
       "      <td>0.571429</td>\n",
       "      <td>1.0</td>\n",
       "      <td>0.0</td>\n",
       "      <td>0.0</td>\n",
       "      <td>1.0</td>\n",
       "    </tr>\n",
       "    <tr>\n",
       "      <th>373</th>\n",
       "      <td>1.000000</td>\n",
       "      <td>1.00000</td>\n",
       "      <td>0.545455</td>\n",
       "      <td>0.033237</td>\n",
       "      <td>1.0</td>\n",
       "      <td>0.764706</td>\n",
       "      <td>0.142857</td>\n",
       "      <td>0.833333</td>\n",
       "      <td>0.92</td>\n",
       "      <td>0.105263</td>\n",
       "      <td>0.571429</td>\n",
       "      <td>1.0</td>\n",
       "      <td>0.0</td>\n",
       "      <td>0.0</td>\n",
       "      <td>1.0</td>\n",
       "    </tr>\n",
       "  </tbody>\n",
       "</table>\n",
       "<p>374 rows × 15 columns</p>\n",
       "</div>"
      ],
      "text/plain": [
       "     Person ID      Age  Occupation  Sleep Duration  Quality of Sleep  \\\n",
       "0     0.000000  0.00000    0.909091        0.004335               0.4   \n",
       "1     0.002681  0.03125    0.181818        0.005780               0.4   \n",
       "2     0.005362  0.03125    0.181818        0.005780               0.4   \n",
       "3     0.008043  0.03125    0.636364        0.001445               0.0   \n",
       "4     0.010724  0.03125    0.636364        0.001445               0.0   \n",
       "..         ...      ...         ...             ...               ...   \n",
       "369   0.989276  1.00000    0.545455        0.033237               1.0   \n",
       "370   0.991957  1.00000    0.545455        0.031792               1.0   \n",
       "371   0.994638  1.00000    0.545455        0.033237               1.0   \n",
       "372   0.997319  1.00000    0.545455        0.033237               1.0   \n",
       "373   1.000000  1.00000    0.545455        0.033237               1.0   \n",
       "\n",
       "     Physical Activity Level  Stress Level  BMI Category  Blood Pressure  \\\n",
       "0                   0.294118      0.571429      0.833333            0.44   \n",
       "1                   0.588235      1.000000      0.333333            0.36   \n",
       "2                   0.588235      1.000000      0.333333            0.36   \n",
       "3                   0.058824      1.000000      0.666667            0.88   \n",
       "4                   0.058824      1.000000      1.000000            0.60   \n",
       "..                       ...           ...           ...             ...   \n",
       "369                 0.764706      0.142857      0.833333            0.92   \n",
       "370                 0.764706      0.142857      0.833333            0.92   \n",
       "371                 0.764706      0.142857      0.833333            0.92   \n",
       "372                 0.764706      0.142857      0.833333            0.92   \n",
       "373                 0.764706      0.142857      0.833333            0.92   \n",
       "\n",
       "     Heart Rate  Daily Steps  Gender_Female  Gender_Male  \\\n",
       "0      0.526316     0.171429            0.0          1.0   \n",
       "1      0.421053     1.000000            0.0          1.0   \n",
       "2      0.421053     1.000000            0.0          1.0   \n",
       "3      0.894737     0.000000            0.0          1.0   \n",
       "4      0.105263     0.543986            0.0          1.0   \n",
       "..          ...          ...            ...          ...   \n",
       "369    0.105263     0.571429            1.0          0.0   \n",
       "370    0.105263     0.571429            1.0          0.0   \n",
       "371    0.105263     0.571429            1.0          0.0   \n",
       "372    0.105263     0.571429            1.0          0.0   \n",
       "373    0.105263     0.571429            1.0          0.0   \n",
       "\n",
       "     Sleep Disorder_Insomnia  Sleep Disorder_Sleep Apnea  \n",
       "0                        1.0                         0.0  \n",
       "1                        1.0                         0.0  \n",
       "2                        1.0                         0.0  \n",
       "3                        0.0                         1.0  \n",
       "4                        1.0                         0.0  \n",
       "..                       ...                         ...  \n",
       "369                      0.0                         1.0  \n",
       "370                      0.0                         1.0  \n",
       "371                      0.0                         1.0  \n",
       "372                      0.0                         1.0  \n",
       "373                      0.0                         1.0  \n",
       "\n",
       "[374 rows x 15 columns]"
      ]
     },
     "execution_count": 159,
     "metadata": {},
     "output_type": "execute_result"
    }
   ],
   "source": [
    "scal_qil(df)"
   ]
  },
  {
   "cell_type": "code",
   "execution_count": 160,
   "id": "00dbe4aa",
   "metadata": {},
   "outputs": [
    {
     "data": {
      "text/html": [
       "<div>\n",
       "<style scoped>\n",
       "    .dataframe tbody tr th:only-of-type {\n",
       "        vertical-align: middle;\n",
       "    }\n",
       "\n",
       "    .dataframe tbody tr th {\n",
       "        vertical-align: top;\n",
       "    }\n",
       "\n",
       "    .dataframe thead th {\n",
       "        text-align: right;\n",
       "    }\n",
       "</style>\n",
       "<table border=\"1\" class=\"dataframe\">\n",
       "  <thead>\n",
       "    <tr style=\"text-align: right;\">\n",
       "      <th></th>\n",
       "      <th>Person ID</th>\n",
       "      <th>Age</th>\n",
       "      <th>Occupation</th>\n",
       "      <th>Sleep Duration</th>\n",
       "      <th>Quality of Sleep</th>\n",
       "      <th>Physical Activity Level</th>\n",
       "      <th>Stress Level</th>\n",
       "      <th>BMI Category</th>\n",
       "      <th>Blood Pressure</th>\n",
       "      <th>Heart Rate</th>\n",
       "      <th>Daily Steps</th>\n",
       "      <th>Gender_Female</th>\n",
       "      <th>Gender_Male</th>\n",
       "      <th>Sleep Disorder_Insomnia</th>\n",
       "      <th>Sleep Disorder_Sleep Apnea</th>\n",
       "    </tr>\n",
       "  </thead>\n",
       "  <tbody>\n",
       "    <tr>\n",
       "      <th>0</th>\n",
       "      <td>0.000000</td>\n",
       "      <td>0.00000</td>\n",
       "      <td>0.909091</td>\n",
       "      <td>0.004335</td>\n",
       "      <td>0.4</td>\n",
       "      <td>0.294118</td>\n",
       "      <td>0.571429</td>\n",
       "      <td>0.833333</td>\n",
       "      <td>0.44</td>\n",
       "      <td>0.526316</td>\n",
       "      <td>0.171429</td>\n",
       "      <td>0.0</td>\n",
       "      <td>1.0</td>\n",
       "      <td>1.0</td>\n",
       "      <td>0.0</td>\n",
       "    </tr>\n",
       "    <tr>\n",
       "      <th>1</th>\n",
       "      <td>0.002681</td>\n",
       "      <td>0.03125</td>\n",
       "      <td>0.181818</td>\n",
       "      <td>0.005780</td>\n",
       "      <td>0.4</td>\n",
       "      <td>0.588235</td>\n",
       "      <td>1.000000</td>\n",
       "      <td>0.333333</td>\n",
       "      <td>0.36</td>\n",
       "      <td>0.421053</td>\n",
       "      <td>1.000000</td>\n",
       "      <td>0.0</td>\n",
       "      <td>1.0</td>\n",
       "      <td>1.0</td>\n",
       "      <td>0.0</td>\n",
       "    </tr>\n",
       "    <tr>\n",
       "      <th>2</th>\n",
       "      <td>0.005362</td>\n",
       "      <td>0.03125</td>\n",
       "      <td>0.181818</td>\n",
       "      <td>0.005780</td>\n",
       "      <td>0.4</td>\n",
       "      <td>0.588235</td>\n",
       "      <td>1.000000</td>\n",
       "      <td>0.333333</td>\n",
       "      <td>0.36</td>\n",
       "      <td>0.421053</td>\n",
       "      <td>1.000000</td>\n",
       "      <td>0.0</td>\n",
       "      <td>1.0</td>\n",
       "      <td>1.0</td>\n",
       "      <td>0.0</td>\n",
       "    </tr>\n",
       "    <tr>\n",
       "      <th>3</th>\n",
       "      <td>0.008043</td>\n",
       "      <td>0.03125</td>\n",
       "      <td>0.636364</td>\n",
       "      <td>0.001445</td>\n",
       "      <td>0.0</td>\n",
       "      <td>0.058824</td>\n",
       "      <td>1.000000</td>\n",
       "      <td>0.666667</td>\n",
       "      <td>0.88</td>\n",
       "      <td>0.894737</td>\n",
       "      <td>0.000000</td>\n",
       "      <td>0.0</td>\n",
       "      <td>1.0</td>\n",
       "      <td>0.0</td>\n",
       "      <td>1.0</td>\n",
       "    </tr>\n",
       "    <tr>\n",
       "      <th>4</th>\n",
       "      <td>0.010724</td>\n",
       "      <td>0.03125</td>\n",
       "      <td>0.636364</td>\n",
       "      <td>0.001445</td>\n",
       "      <td>0.0</td>\n",
       "      <td>0.058824</td>\n",
       "      <td>1.000000</td>\n",
       "      <td>1.000000</td>\n",
       "      <td>0.60</td>\n",
       "      <td>0.105263</td>\n",
       "      <td>0.543986</td>\n",
       "      <td>0.0</td>\n",
       "      <td>1.0</td>\n",
       "      <td>1.0</td>\n",
       "      <td>0.0</td>\n",
       "    </tr>\n",
       "  </tbody>\n",
       "</table>\n",
       "</div>"
      ],
      "text/plain": [
       "   Person ID      Age  Occupation  Sleep Duration  Quality of Sleep  \\\n",
       "0   0.000000  0.00000    0.909091        0.004335               0.4   \n",
       "1   0.002681  0.03125    0.181818        0.005780               0.4   \n",
       "2   0.005362  0.03125    0.181818        0.005780               0.4   \n",
       "3   0.008043  0.03125    0.636364        0.001445               0.0   \n",
       "4   0.010724  0.03125    0.636364        0.001445               0.0   \n",
       "\n",
       "   Physical Activity Level  Stress Level  BMI Category  Blood Pressure  \\\n",
       "0                 0.294118      0.571429      0.833333            0.44   \n",
       "1                 0.588235      1.000000      0.333333            0.36   \n",
       "2                 0.588235      1.000000      0.333333            0.36   \n",
       "3                 0.058824      1.000000      0.666667            0.88   \n",
       "4                 0.058824      1.000000      1.000000            0.60   \n",
       "\n",
       "   Heart Rate  Daily Steps  Gender_Female  Gender_Male  \\\n",
       "0    0.526316     0.171429            0.0          1.0   \n",
       "1    0.421053     1.000000            0.0          1.0   \n",
       "2    0.421053     1.000000            0.0          1.0   \n",
       "3    0.894737     0.000000            0.0          1.0   \n",
       "4    0.105263     0.543986            0.0          1.0   \n",
       "\n",
       "   Sleep Disorder_Insomnia  Sleep Disorder_Sleep Apnea  \n",
       "0                      1.0                         0.0  \n",
       "1                      1.0                         0.0  \n",
       "2                      1.0                         0.0  \n",
       "3                      0.0                         1.0  \n",
       "4                      1.0                         0.0  "
      ]
     },
     "execution_count": 160,
     "metadata": {},
     "output_type": "execute_result"
    }
   ],
   "source": [
    "df.head()"
   ]
  },
  {
   "cell_type": "code",
   "execution_count": 161,
   "id": "8864782f",
   "metadata": {},
   "outputs": [
    {
     "name": "stdout",
     "output_type": "stream",
     "text": [
      "<class 'pandas.core.frame.DataFrame'>\n",
      "RangeIndex: 374 entries, 0 to 373\n",
      "Data columns (total 15 columns):\n",
      " #   Column                      Non-Null Count  Dtype  \n",
      "---  ------                      --------------  -----  \n",
      " 0   Person ID                   374 non-null    float64\n",
      " 1   Age                         374 non-null    float64\n",
      " 2   Occupation                  374 non-null    float64\n",
      " 3   Sleep Duration              374 non-null    float64\n",
      " 4   Quality of Sleep            374 non-null    float64\n",
      " 5   Physical Activity Level     374 non-null    float64\n",
      " 6   Stress Level                374 non-null    float64\n",
      " 7   BMI Category                374 non-null    float64\n",
      " 8   Blood Pressure              374 non-null    float64\n",
      " 9   Heart Rate                  374 non-null    float64\n",
      " 10  Daily Steps                 374 non-null    float64\n",
      " 11  Gender_Female               374 non-null    float64\n",
      " 12  Gender_Male                 374 non-null    float64\n",
      " 13  Sleep Disorder_Insomnia     374 non-null    float64\n",
      " 14  Sleep Disorder_Sleep Apnea  374 non-null    float64\n",
      "dtypes: float64(15)\n",
      "memory usage: 44.0 KB\n"
     ]
    }
   ],
   "source": [
    "df.info()"
   ]
  },
  {
   "cell_type": "code",
   "execution_count": 162,
   "id": "a15e40c3",
   "metadata": {},
   "outputs": [],
   "source": [
    "x = df.drop('Sleep Disorder_Sleep Apnea',axis=1)"
   ]
  },
  {
   "cell_type": "code",
   "execution_count": 163,
   "id": "b5d6facf",
   "metadata": {},
   "outputs": [],
   "source": [
    "y = df['Sleep Disorder_Sleep Apnea']"
   ]
  },
  {
   "cell_type": "code",
   "execution_count": 164,
   "id": "4d1b3857",
   "metadata": {},
   "outputs": [],
   "source": [
    "from sklearn.model_selection import train_test_split"
   ]
  },
  {
   "cell_type": "code",
   "execution_count": 165,
   "id": "d30ce8b9",
   "metadata": {},
   "outputs": [],
   "source": [
    "x_train,x_test,y_train,y_test= train_test_split(x,y, test_size=0.2, random_state=42)"
   ]
  },
  {
   "cell_type": "code",
   "execution_count": 107,
   "id": "9e8aff34",
   "metadata": {},
   "outputs": [],
   "source": [
    "from sklearn.linear_model import LogisticRegression\n",
    "model = LogisticRegression()"
   ]
  },
  {
   "cell_type": "code",
   "execution_count": 108,
   "id": "faf1f40f",
   "metadata": {},
   "outputs": [
    {
     "data": {
      "text/plain": [
       "LogisticRegression()"
      ]
     },
     "execution_count": 108,
     "metadata": {},
     "output_type": "execute_result"
    }
   ],
   "source": [
    "model.fit(x_train,y_train)"
   ]
  },
  {
   "cell_type": "code",
   "execution_count": 109,
   "id": "b1803e8c",
   "metadata": {},
   "outputs": [],
   "source": [
    "y_pred = model.predict(x_test)"
   ]
  },
  {
   "cell_type": "code",
   "execution_count": 110,
   "id": "1b8336e4",
   "metadata": {},
   "outputs": [],
   "source": [
    "from sklearn.metrics import classification_report, accuracy_score"
   ]
  },
  {
   "cell_type": "code",
   "execution_count": 111,
   "id": "d1ee3279",
   "metadata": {},
   "outputs": [],
   "source": [
    "report = classification_report(y_test,y_pred)\n",
    "accur = accuracy_score(y_test,y_pred)"
   ]
  },
  {
   "cell_type": "code",
   "execution_count": 112,
   "id": "dfbc3080",
   "metadata": {},
   "outputs": [
    {
     "name": "stdout",
     "output_type": "stream",
     "text": [
      "              precision    recall  f1-score   support\n",
      "\n",
      "         0.0       1.00      1.00      1.00        59\n",
      "         1.0       1.00      1.00      1.00        16\n",
      "\n",
      "    accuracy                           1.00        75\n",
      "   macro avg       1.00      1.00      1.00        75\n",
      "weighted avg       1.00      1.00      1.00        75\n",
      "\n"
     ]
    }
   ],
   "source": [
    "print(report)"
   ]
  },
  {
   "cell_type": "code",
   "execution_count": 113,
   "id": "a4fe0829",
   "metadata": {},
   "outputs": [
    {
     "name": "stdout",
     "output_type": "stream",
     "text": [
      "1.0\n"
     ]
    }
   ],
   "source": [
    "print(accur)"
   ]
  },
  {
   "cell_type": "code",
   "execution_count": 32,
   "id": "10e680ae",
   "metadata": {},
   "outputs": [],
   "source": [
    "# Desision Tree"
   ]
  },
  {
   "cell_type": "code",
   "execution_count": 137,
   "id": "40a8ea67",
   "metadata": {},
   "outputs": [],
   "source": [
    "from sklearn.tree import DecisionTreeClassifier\n",
    "dt = DecisionTreeClassifier()"
   ]
  },
  {
   "cell_type": "code",
   "execution_count": 138,
   "id": "10e17b7c",
   "metadata": {},
   "outputs": [
    {
     "data": {
      "text/plain": [
       "DecisionTreeClassifier()"
      ]
     },
     "execution_count": 138,
     "metadata": {},
     "output_type": "execute_result"
    }
   ],
   "source": [
    "dt.fit(x_train,y_train)"
   ]
  },
  {
   "cell_type": "code",
   "execution_count": 139,
   "id": "77ce7921",
   "metadata": {},
   "outputs": [],
   "source": [
    "pred = dt.predict(x_test)"
   ]
  },
  {
   "cell_type": "code",
   "execution_count": 140,
   "id": "03021f05",
   "metadata": {},
   "outputs": [
    {
     "data": {
      "text/plain": [
       "array([0., 0., 0., 0., 0., 0., 0., 0., 0., 0., 0., 0., 0., 0., 0., 0., 0.,\n",
       "       0., 0., 0., 0., 0., 0., 0., 0., 0., 0., 0., 0., 1., 0., 0., 0., 1.,\n",
       "       1., 0., 0., 0., 0., 0., 0., 1., 1., 1., 0., 0., 0., 0., 0., 0., 1.,\n",
       "       1., 1., 1., 0., 1., 1., 1., 1., 0., 0., 0., 0., 0., 0., 0., 0., 0.,\n",
       "       0., 0., 0., 0., 0., 1., 1.])"
      ]
     },
     "execution_count": 140,
     "metadata": {},
     "output_type": "execute_result"
    }
   ],
   "source": [
    "pred"
   ]
  },
  {
   "cell_type": "code",
   "execution_count": 141,
   "id": "ee681c2a",
   "metadata": {},
   "outputs": [],
   "source": [
    "rep = classification_report(y_test,y_pred)\n",
    "acc = accuracy_score(y_test,y_pred)"
   ]
  },
  {
   "cell_type": "code",
   "execution_count": 142,
   "id": "9e97c79e",
   "metadata": {},
   "outputs": [
    {
     "name": "stdout",
     "output_type": "stream",
     "text": [
      "              precision    recall  f1-score   support\n",
      "\n",
      "         0.0       1.00      1.00      1.00        59\n",
      "         1.0       1.00      1.00      1.00        16\n",
      "\n",
      "    accuracy                           1.00        75\n",
      "   macro avg       1.00      1.00      1.00        75\n",
      "weighted avg       1.00      1.00      1.00        75\n",
      "\n"
     ]
    }
   ],
   "source": [
    "print(rep)"
   ]
  },
  {
   "cell_type": "code",
   "execution_count": 143,
   "id": "521fbff4",
   "metadata": {},
   "outputs": [
    {
     "name": "stdout",
     "output_type": "stream",
     "text": [
      "1.0\n"
     ]
    }
   ],
   "source": [
    "print(acc)"
   ]
  },
  {
   "cell_type": "code",
   "execution_count": 40,
   "id": "3e2791db",
   "metadata": {},
   "outputs": [],
   "source": [
    "# Linear regression"
   ]
  },
  {
   "cell_type": "code",
   "execution_count": 166,
   "id": "103ba01b",
   "metadata": {},
   "outputs": [],
   "source": [
    "from sklearn.linear_model import LinearRegression\n",
    "mod =  LinearRegression()"
   ]
  },
  {
   "cell_type": "code",
   "execution_count": 167,
   "id": "04bed006",
   "metadata": {},
   "outputs": [
    {
     "data": {
      "text/plain": [
       "LinearRegression()"
      ]
     },
     "execution_count": 167,
     "metadata": {},
     "output_type": "execute_result"
    }
   ],
   "source": [
    "mod.fit(x_train,y_train)"
   ]
  },
  {
   "cell_type": "code",
   "execution_count": 168,
   "id": "c790f891",
   "metadata": {},
   "outputs": [],
   "source": [
    "pr = mod.predict(x_test)"
   ]
  },
  {
   "cell_type": "code",
   "execution_count": 169,
   "id": "dcefac1c",
   "metadata": {},
   "outputs": [
    {
     "data": {
      "text/plain": [
       "array([-1.11022302e-16, -3.33066907e-16, -2.22044605e-16, -1.11022302e-16,\n",
       "       -2.22044605e-16,  0.00000000e+00, -2.22044605e-16,  0.00000000e+00,\n",
       "       -1.11022302e-16, -1.11022302e-16,  0.00000000e+00, -1.11022302e-16,\n",
       "        0.00000000e+00, -3.33066907e-16,  0.00000000e+00,  7.77156117e-16,\n",
       "       -5.55111512e-16,  0.00000000e+00, -1.11022302e-16, -2.22044605e-16,\n",
       "        1.11022302e-16,  0.00000000e+00, -2.22044605e-16,  2.22044605e-16,\n",
       "        3.33066907e-16,  0.00000000e+00,  0.00000000e+00, -1.11022302e-16,\n",
       "       -1.11022302e-16,  1.00000000e+00, -1.11022302e-16, -2.22044605e-16,\n",
       "       -1.11022302e-16,  1.00000000e+00,  1.00000000e+00,  0.00000000e+00,\n",
       "       -2.22044605e-16,  1.11022302e-16,  0.00000000e+00,  1.11022302e-16,\n",
       "        1.11022302e-16,  1.00000000e+00,  1.00000000e+00,  1.00000000e+00,\n",
       "       -1.11022302e-16,  0.00000000e+00, -3.33066907e-16, -1.11022302e-16,\n",
       "       -4.44089210e-16, -1.11022302e-16,  1.00000000e+00,  1.00000000e+00,\n",
       "        1.00000000e+00,  1.00000000e+00,  2.22044605e-16,  1.00000000e+00,\n",
       "        1.00000000e+00,  1.00000000e+00,  1.00000000e+00, -2.22044605e-16,\n",
       "       -1.11022302e-16,  3.33066907e-16, -2.22044605e-16,  0.00000000e+00,\n",
       "        2.22044605e-16, -2.22044605e-16,  0.00000000e+00, -1.11022302e-16,\n",
       "        1.11022302e-16, -5.55111512e-16,  0.00000000e+00, -1.11022302e-16,\n",
       "       -1.11022302e-16,  1.00000000e+00,  1.00000000e+00])"
      ]
     },
     "execution_count": 169,
     "metadata": {},
     "output_type": "execute_result"
    }
   ],
   "source": [
    "pr"
   ]
  },
  {
   "cell_type": "code",
   "execution_count": 170,
   "id": "732a5995",
   "metadata": {},
   "outputs": [],
   "source": [
    "# Linear regression "
   ]
  },
  {
   "cell_type": "code",
   "execution_count": 171,
   "id": "b49e2806",
   "metadata": {},
   "outputs": [],
   "source": [
    "from sklearn.metrics import r2_score, mean_absolute_error"
   ]
  },
  {
   "cell_type": "code",
   "execution_count": 172,
   "id": "c8806085",
   "metadata": {},
   "outputs": [],
   "source": [
    "r2 = r2_score(y_test,pr)\n",
    "mae = mean_absolute_error(y_test,y_pred)"
   ]
  },
  {
   "cell_type": "code",
   "execution_count": 173,
   "id": "8fc85948",
   "metadata": {},
   "outputs": [
    {
     "name": "stdout",
     "output_type": "stream",
     "text": [
      "1.0\n",
      "0.0\n"
     ]
    }
   ],
   "source": [
    "print(r2)\n",
    "print(mae)"
   ]
  },
  {
   "cell_type": "code",
   "execution_count": 174,
   "id": "f85bf3bb",
   "metadata": {},
   "outputs": [],
   "source": [
    "#!pip install tabulate"
   ]
  },
  {
   "cell_type": "code",
   "execution_count": 175,
   "id": "955cd36d",
   "metadata": {},
   "outputs": [],
   "source": [
    "from tabulate import tabulate"
   ]
  },
  {
   "cell_type": "code",
   "execution_count": 187,
   "id": "8e8c7c19",
   "metadata": {},
   "outputs": [
    {
     "name": "stdout",
     "output_type": "stream",
     "text": [
      "+------------------------+------------------+\n",
      "| Algorithm              |   Accuracy_score |\n",
      "+========================+==================+\n",
      "| LogisticRegression     |            0.100 |\n",
      "+------------------------+------------------+\n",
      "| LinearRegression       |            0.100 |\n",
      "+------------------------+------------------+\n",
      "| DecisionTreeClassifier |            0.100 |\n",
      "+------------------------+------------------+\n"
     ]
    }
   ],
   "source": [
    "natijalar = [\n",
    "    ['LogisticRegression', 0.1],\n",
    "    ['LinearRegression',0.1],\n",
    "    ['DecisionTreeClassifier',0.1]\n",
    "]\n",
    "\n",
    "headers = ['Algorithm','Accuracy_score']\n",
    "\n",
    "table = tabulate(natijalar,headers=headers,tablefmt='grid',floatfmt='.3f')\n",
    "print(table)\n"
   ]
  },
  {
   "cell_type": "code",
   "execution_count": null,
   "id": "876f5290",
   "metadata": {},
   "outputs": [],
   "source": []
  }
 ],
 "metadata": {
  "kernelspec": {
   "display_name": "base",
   "language": "python",
   "name": "python3"
  },
  "language_info": {
   "codemirror_mode": {
    "name": "ipython",
    "version": 3
   },
   "file_extension": ".py",
   "mimetype": "text/x-python",
   "name": "python",
   "nbconvert_exporter": "python",
   "pygments_lexer": "ipython3",
   "version": "3.8.8"
  }
 },
 "nbformat": 4,
 "nbformat_minor": 5
}
