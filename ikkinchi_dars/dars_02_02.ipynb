{
 "cells": [
  {
   "cell_type": "markdown",
   "id": "8cac3fb2",
   "metadata": {},
   "source": [
    "# SVR score --> 0.9212\n",
    "# SVC score --> 0.8266"
   ]
  },
  {
   "cell_type": "code",
   "execution_count": 3,
   "id": "7c9ee25b",
   "metadata": {},
   "outputs": [],
   "source": [
    "import pandas as pd \n",
    "df=pd.read_csv('Sleep_health_and_lifestyle_dataset.csv')"
   ]
  },
  {
   "cell_type": "code",
   "execution_count": 4,
   "id": "2cc7539e",
   "metadata": {},
   "outputs": [
    {
     "name": "stdout",
     "output_type": "stream",
     "text": [
      "<class 'pandas.core.frame.DataFrame'>\n",
      "RangeIndex: 374 entries, 0 to 373\n",
      "Data columns (total 13 columns):\n",
      " #   Column                   Non-Null Count  Dtype  \n",
      "---  ------                   --------------  -----  \n",
      " 0   Person ID                374 non-null    int64  \n",
      " 1   Gender                   374 non-null    object \n",
      " 2   Age                      374 non-null    int64  \n",
      " 3   Occupation               374 non-null    object \n",
      " 4   Sleep Duration           373 non-null    float64\n",
      " 5   Quality of Sleep         374 non-null    int64  \n",
      " 6   Physical Activity Level  374 non-null    object \n",
      " 7   Stress Level             374 non-null    object \n",
      " 8   BMI Category             373 non-null    object \n",
      " 9   Blood Pressure           371 non-null    object \n",
      " 10  Heart Rate               368 non-null    object \n",
      " 11  Daily Steps              367 non-null    float64\n",
      " 12  Sleep Disorder           153 non-null    object \n",
      "dtypes: float64(2), int64(3), object(8)\n",
      "memory usage: 38.1+ KB\n"
     ]
    }
   ],
   "source": [
    "df.info()"
   ]
  },
  {
   "cell_type": "code",
   "execution_count": 5,
   "id": "f3b536f9",
   "metadata": {},
   "outputs": [],
   "source": [
    "def tozala(df):\n",
    "    for col in df.columns:\n",
    "        if df[col].isnull().any():\n",
    "\n",
    "            if df[col].dtype=='object':\n",
    "                df[col].fillna(df[col].mode()[0],inplace=True)\n",
    "            else:\n",
    "                df[col].fillna(df[col].mean(),inplace=True)\n",
    "\n",
    "    return df\n",
    "    "
   ]
  },
  {
   "cell_type": "code",
   "execution_count": 6,
   "id": "ed749536",
   "metadata": {},
   "outputs": [
    {
     "data": {
      "text/html": [
       "<div>\n",
       "<style scoped>\n",
       "    .dataframe tbody tr th:only-of-type {\n",
       "        vertical-align: middle;\n",
       "    }\n",
       "\n",
       "    .dataframe tbody tr th {\n",
       "        vertical-align: top;\n",
       "    }\n",
       "\n",
       "    .dataframe thead th {\n",
       "        text-align: right;\n",
       "    }\n",
       "</style>\n",
       "<table border=\"1\" class=\"dataframe\">\n",
       "  <thead>\n",
       "    <tr style=\"text-align: right;\">\n",
       "      <th></th>\n",
       "      <th>Person ID</th>\n",
       "      <th>Gender</th>\n",
       "      <th>Age</th>\n",
       "      <th>Occupation</th>\n",
       "      <th>Sleep Duration</th>\n",
       "      <th>Quality of Sleep</th>\n",
       "      <th>Physical Activity Level</th>\n",
       "      <th>Stress Level</th>\n",
       "      <th>BMI Category</th>\n",
       "      <th>Blood Pressure</th>\n",
       "      <th>Heart Rate</th>\n",
       "      <th>Daily Steps</th>\n",
       "      <th>Sleep Disorder</th>\n",
       "    </tr>\n",
       "  </thead>\n",
       "  <tbody>\n",
       "    <tr>\n",
       "      <th>0</th>\n",
       "      <td>1</td>\n",
       "      <td>Male</td>\n",
       "      <td>27</td>\n",
       "      <td>Software Engineer</td>\n",
       "      <td>6.1</td>\n",
       "      <td>6</td>\n",
       "      <td>42</td>\n",
       "      <td>6</td>\n",
       "      <td>Overweight</td>\n",
       "      <td>126/83</td>\n",
       "      <td>77</td>\n",
       "      <td>4200.000000</td>\n",
       "      <td>Insomnia</td>\n",
       "    </tr>\n",
       "    <tr>\n",
       "      <th>1</th>\n",
       "      <td>2</td>\n",
       "      <td>Male</td>\n",
       "      <td>28</td>\n",
       "      <td>Doctor</td>\n",
       "      <td>6.2</td>\n",
       "      <td>6</td>\n",
       "      <td>60</td>\n",
       "      <td>8</td>\n",
       "      <td>Normal</td>\n",
       "      <td>125/80</td>\n",
       "      <td>75</td>\n",
       "      <td>10000.000000</td>\n",
       "      <td>Insomnia</td>\n",
       "    </tr>\n",
       "    <tr>\n",
       "      <th>2</th>\n",
       "      <td>3</td>\n",
       "      <td>Male</td>\n",
       "      <td>28</td>\n",
       "      <td>Doctor</td>\n",
       "      <td>6.2</td>\n",
       "      <td>6</td>\n",
       "      <td>60</td>\n",
       "      <td>8</td>\n",
       "      <td>Normal</td>\n",
       "      <td>125/80</td>\n",
       "      <td>75</td>\n",
       "      <td>10000.000000</td>\n",
       "      <td>Insomnia</td>\n",
       "    </tr>\n",
       "    <tr>\n",
       "      <th>3</th>\n",
       "      <td>4</td>\n",
       "      <td>Male</td>\n",
       "      <td>28</td>\n",
       "      <td>Sales Representative</td>\n",
       "      <td>5.9</td>\n",
       "      <td>4</td>\n",
       "      <td>30</td>\n",
       "      <td>8</td>\n",
       "      <td>Obese</td>\n",
       "      <td>140/90</td>\n",
       "      <td>85</td>\n",
       "      <td>3000.000000</td>\n",
       "      <td>Sleep Apnea</td>\n",
       "    </tr>\n",
       "    <tr>\n",
       "      <th>4</th>\n",
       "      <td>5</td>\n",
       "      <td>Male</td>\n",
       "      <td>28</td>\n",
       "      <td>Sales Representative</td>\n",
       "      <td>5.9</td>\n",
       "      <td>4</td>\n",
       "      <td>30</td>\n",
       "      <td>8</td>\n",
       "      <td>Sleep Apnea</td>\n",
       "      <td>130/85</td>\n",
       "      <td>68</td>\n",
       "      <td>6807.901907</td>\n",
       "      <td>Insomnia</td>\n",
       "    </tr>\n",
       "    <tr>\n",
       "      <th>...</th>\n",
       "      <td>...</td>\n",
       "      <td>...</td>\n",
       "      <td>...</td>\n",
       "      <td>...</td>\n",
       "      <td>...</td>\n",
       "      <td>...</td>\n",
       "      <td>...</td>\n",
       "      <td>...</td>\n",
       "      <td>...</td>\n",
       "      <td>...</td>\n",
       "      <td>...</td>\n",
       "      <td>...</td>\n",
       "      <td>...</td>\n",
       "    </tr>\n",
       "    <tr>\n",
       "      <th>369</th>\n",
       "      <td>370</td>\n",
       "      <td>Female</td>\n",
       "      <td>59</td>\n",
       "      <td>Nurse</td>\n",
       "      <td>8.1</td>\n",
       "      <td>9</td>\n",
       "      <td>75</td>\n",
       "      <td>3</td>\n",
       "      <td>Overweight</td>\n",
       "      <td>140/95</td>\n",
       "      <td>68</td>\n",
       "      <td>7000.000000</td>\n",
       "      <td>Sleep Apnea</td>\n",
       "    </tr>\n",
       "    <tr>\n",
       "      <th>370</th>\n",
       "      <td>371</td>\n",
       "      <td>Female</td>\n",
       "      <td>59</td>\n",
       "      <td>Nurse</td>\n",
       "      <td>8.0</td>\n",
       "      <td>9</td>\n",
       "      <td>75</td>\n",
       "      <td>3</td>\n",
       "      <td>Overweight</td>\n",
       "      <td>140/95</td>\n",
       "      <td>68</td>\n",
       "      <td>7000.000000</td>\n",
       "      <td>Sleep Apnea</td>\n",
       "    </tr>\n",
       "    <tr>\n",
       "      <th>371</th>\n",
       "      <td>372</td>\n",
       "      <td>Female</td>\n",
       "      <td>59</td>\n",
       "      <td>Nurse</td>\n",
       "      <td>8.1</td>\n",
       "      <td>9</td>\n",
       "      <td>75</td>\n",
       "      <td>3</td>\n",
       "      <td>Overweight</td>\n",
       "      <td>140/95</td>\n",
       "      <td>68</td>\n",
       "      <td>7000.000000</td>\n",
       "      <td>Sleep Apnea</td>\n",
       "    </tr>\n",
       "    <tr>\n",
       "      <th>372</th>\n",
       "      <td>373</td>\n",
       "      <td>Female</td>\n",
       "      <td>59</td>\n",
       "      <td>Nurse</td>\n",
       "      <td>8.1</td>\n",
       "      <td>9</td>\n",
       "      <td>75</td>\n",
       "      <td>3</td>\n",
       "      <td>Overweight</td>\n",
       "      <td>140/95</td>\n",
       "      <td>68</td>\n",
       "      <td>7000.000000</td>\n",
       "      <td>Sleep Apnea</td>\n",
       "    </tr>\n",
       "    <tr>\n",
       "      <th>373</th>\n",
       "      <td>374</td>\n",
       "      <td>Female</td>\n",
       "      <td>59</td>\n",
       "      <td>Nurse</td>\n",
       "      <td>8.1</td>\n",
       "      <td>9</td>\n",
       "      <td>75</td>\n",
       "      <td>3</td>\n",
       "      <td>Overweight</td>\n",
       "      <td>140/95</td>\n",
       "      <td>68</td>\n",
       "      <td>7000.000000</td>\n",
       "      <td>Sleep Apnea</td>\n",
       "    </tr>\n",
       "  </tbody>\n",
       "</table>\n",
       "<p>374 rows × 13 columns</p>\n",
       "</div>"
      ],
      "text/plain": [
       "     Person ID  Gender  Age            Occupation  Sleep Duration  \\\n",
       "0            1    Male   27     Software Engineer             6.1   \n",
       "1            2    Male   28                Doctor             6.2   \n",
       "2            3    Male   28                Doctor             6.2   \n",
       "3            4    Male   28  Sales Representative             5.9   \n",
       "4            5    Male   28  Sales Representative             5.9   \n",
       "..         ...     ...  ...                   ...             ...   \n",
       "369        370  Female   59                 Nurse             8.1   \n",
       "370        371  Female   59                 Nurse             8.0   \n",
       "371        372  Female   59                 Nurse             8.1   \n",
       "372        373  Female   59                 Nurse             8.1   \n",
       "373        374  Female   59                 Nurse             8.1   \n",
       "\n",
       "     Quality of Sleep Physical Activity Level Stress Level BMI Category  \\\n",
       "0                   6                      42            6   Overweight   \n",
       "1                   6                      60            8       Normal   \n",
       "2                   6                      60            8       Normal   \n",
       "3                   4                      30            8        Obese   \n",
       "4                   4                      30            8  Sleep Apnea   \n",
       "..                ...                     ...          ...          ...   \n",
       "369                 9                      75            3   Overweight   \n",
       "370                 9                      75            3   Overweight   \n",
       "371                 9                      75            3   Overweight   \n",
       "372                 9                      75            3   Overweight   \n",
       "373                 9                      75            3   Overweight   \n",
       "\n",
       "    Blood Pressure Heart Rate   Daily Steps Sleep Disorder  \n",
       "0           126/83         77   4200.000000       Insomnia  \n",
       "1           125/80         75  10000.000000       Insomnia  \n",
       "2           125/80         75  10000.000000       Insomnia  \n",
       "3           140/90         85   3000.000000    Sleep Apnea  \n",
       "4           130/85         68   6807.901907       Insomnia  \n",
       "..             ...        ...           ...            ...  \n",
       "369         140/95         68   7000.000000    Sleep Apnea  \n",
       "370         140/95         68   7000.000000    Sleep Apnea  \n",
       "371         140/95         68   7000.000000    Sleep Apnea  \n",
       "372         140/95         68   7000.000000    Sleep Apnea  \n",
       "373         140/95         68   7000.000000    Sleep Apnea  \n",
       "\n",
       "[374 rows x 13 columns]"
      ]
     },
     "execution_count": 6,
     "metadata": {},
     "output_type": "execute_result"
    }
   ],
   "source": [
    "tozala(df)"
   ]
  },
  {
   "cell_type": "code",
   "execution_count": 7,
   "id": "d03f05e6",
   "metadata": {},
   "outputs": [
    {
     "name": "stdout",
     "output_type": "stream",
     "text": [
      "<class 'pandas.core.frame.DataFrame'>\n",
      "RangeIndex: 374 entries, 0 to 373\n",
      "Data columns (total 13 columns):\n",
      " #   Column                   Non-Null Count  Dtype  \n",
      "---  ------                   --------------  -----  \n",
      " 0   Person ID                374 non-null    int64  \n",
      " 1   Gender                   374 non-null    object \n",
      " 2   Age                      374 non-null    int64  \n",
      " 3   Occupation               374 non-null    object \n",
      " 4   Sleep Duration           374 non-null    float64\n",
      " 5   Quality of Sleep         374 non-null    int64  \n",
      " 6   Physical Activity Level  374 non-null    object \n",
      " 7   Stress Level             374 non-null    object \n",
      " 8   BMI Category             374 non-null    object \n",
      " 9   Blood Pressure           374 non-null    object \n",
      " 10  Heart Rate               374 non-null    object \n",
      " 11  Daily Steps              374 non-null    float64\n",
      " 12  Sleep Disorder           374 non-null    object \n",
      "dtypes: float64(2), int64(3), object(8)\n",
      "memory usage: 38.1+ KB\n"
     ]
    }
   ],
   "source": [
    "df.info()"
   ]
  },
  {
   "cell_type": "code",
   "execution_count": 8,
   "id": "d81d6797",
   "metadata": {},
   "outputs": [],
   "source": [
    "from sklearn.preprocessing import LabelEncoder\n",
    "encoding=LabelEncoder()"
   ]
  },
  {
   "cell_type": "code",
   "execution_count": 9,
   "id": "16c6190f",
   "metadata": {},
   "outputs": [],
   "source": [
    "def encodlash(df):\n",
    "    for col in df.columns:\n",
    "        if df[col].dtype=='object':\n",
    "            if df[col].nunique()<=6:\n",
    "                dummies=pd.get_dummies(df[col],prefix=col,dtype=int)\n",
    "                df=pd.concat([df.drop(columns=[col]),dummies],axis=1)\n",
    "            else:\n",
    "                df[col]=encoding.fit_transform(df[col])\n",
    "    return df\n"
   ]
  },
  {
   "cell_type": "code",
   "execution_count": 10,
   "id": "a1085e54",
   "metadata": {},
   "outputs": [],
   "source": [
    "df=encodlash(df)"
   ]
  },
  {
   "cell_type": "code",
   "execution_count": 11,
   "id": "f3a68b03",
   "metadata": {},
   "outputs": [
    {
     "name": "stdout",
     "output_type": "stream",
     "text": [
      "<class 'pandas.core.frame.DataFrame'>\n",
      "RangeIndex: 374 entries, 0 to 373\n",
      "Data columns (total 15 columns):\n",
      " #   Column                      Non-Null Count  Dtype  \n",
      "---  ------                      --------------  -----  \n",
      " 0   Person ID                   374 non-null    int64  \n",
      " 1   Age                         374 non-null    int64  \n",
      " 2   Occupation                  374 non-null    int32  \n",
      " 3   Sleep Duration              374 non-null    float64\n",
      " 4   Quality of Sleep            374 non-null    int64  \n",
      " 5   Physical Activity Level     374 non-null    int32  \n",
      " 6   Stress Level                374 non-null    int32  \n",
      " 7   BMI Category                374 non-null    int32  \n",
      " 8   Blood Pressure              374 non-null    int32  \n",
      " 9   Heart Rate                  374 non-null    int32  \n",
      " 10  Daily Steps                 374 non-null    float64\n",
      " 11  Gender_Female               374 non-null    int32  \n",
      " 12  Gender_Male                 374 non-null    int32  \n",
      " 13  Sleep Disorder_Insomnia     374 non-null    int32  \n",
      " 14  Sleep Disorder_Sleep Apnea  374 non-null    int32  \n",
      "dtypes: float64(2), int32(10), int64(3)\n",
      "memory usage: 29.3 KB\n"
     ]
    }
   ],
   "source": [
    "df.info()"
   ]
  },
  {
   "cell_type": "code",
   "execution_count": 12,
   "id": "fd7d3f68",
   "metadata": {},
   "outputs": [],
   "source": [
    "for col in df.columns:\n",
    "    if df[col].dtype=='object':\n",
    "        if df[col].nunique()<=6:\n",
    "            dummies=pd.get_dummies(df[col],prefix=col,dtype=int)\n",
    "            df=pd.concat([df.drop(columns=[col]),dummies],axis=1)\n",
    "        else:\n",
    "            df[col]=encoding.fit_transform(df[col])"
   ]
  },
  {
   "cell_type": "code",
   "execution_count": 13,
   "id": "4afa3c14",
   "metadata": {},
   "outputs": [
    {
     "name": "stdout",
     "output_type": "stream",
     "text": [
      "<class 'pandas.core.frame.DataFrame'>\n",
      "RangeIndex: 374 entries, 0 to 373\n",
      "Data columns (total 15 columns):\n",
      " #   Column                      Non-Null Count  Dtype  \n",
      "---  ------                      --------------  -----  \n",
      " 0   Person ID                   374 non-null    int64  \n",
      " 1   Age                         374 non-null    int64  \n",
      " 2   Occupation                  374 non-null    int32  \n",
      " 3   Sleep Duration              374 non-null    float64\n",
      " 4   Quality of Sleep            374 non-null    int64  \n",
      " 5   Physical Activity Level     374 non-null    int32  \n",
      " 6   Stress Level                374 non-null    int32  \n",
      " 7   BMI Category                374 non-null    int32  \n",
      " 8   Blood Pressure              374 non-null    int32  \n",
      " 9   Heart Rate                  374 non-null    int32  \n",
      " 10  Daily Steps                 374 non-null    float64\n",
      " 11  Gender_Female               374 non-null    int32  \n",
      " 12  Gender_Male                 374 non-null    int32  \n",
      " 13  Sleep Disorder_Insomnia     374 non-null    int32  \n",
      " 14  Sleep Disorder_Sleep Apnea  374 non-null    int32  \n",
      "dtypes: float64(2), int32(10), int64(3)\n",
      "memory usage: 29.3 KB\n"
     ]
    }
   ],
   "source": [
    "df.info()"
   ]
  },
  {
   "cell_type": "code",
   "execution_count": 14,
   "id": "5a3eba5e",
   "metadata": {},
   "outputs": [],
   "source": [
    "from sklearn.preprocessing import StandardScaler"
   ]
  },
  {
   "cell_type": "code",
   "execution_count": 15,
   "metadata": {},
   "outputs": [],
   "source": [
    "standart_scaler=StandardScaler()"
   ]
  },
  {
   "cell_type": "code",
   "execution_count": 18,
   "metadata": {},
   "outputs": [],
   "source": [
    "def scaling_qil(df):\n",
    "    numerical_col=df.select_dtypes(include=['int32','int64','float64']).columns.drop('Sleep Disorder_Insomnia')\n",
    "    df[numerical_col]=standart_scaler.fit_transform(df[numerical_col])\n",
    "    return df\n",
    "    "
   ]
  },
  {
   "cell_type": "code",
   "execution_count": 19,
   "metadata": {},
   "outputs": [],
   "source": [
    "df=scaling_qil(df)"
   ]
  },
  {
   "cell_type": "code",
   "execution_count": 20,
   "metadata": {},
   "outputs": [
    {
     "data": {
      "text/html": [
       "<div>\n",
       "<style scoped>\n",
       "    .dataframe tbody tr th:only-of-type {\n",
       "        vertical-align: middle;\n",
       "    }\n",
       "\n",
       "    .dataframe tbody tr th {\n",
       "        vertical-align: top;\n",
       "    }\n",
       "\n",
       "    .dataframe thead th {\n",
       "        text-align: right;\n",
       "    }\n",
       "</style>\n",
       "<table border=\"1\" class=\"dataframe\">\n",
       "  <thead>\n",
       "    <tr style=\"text-align: right;\">\n",
       "      <th></th>\n",
       "      <th>Person ID</th>\n",
       "      <th>Age</th>\n",
       "      <th>Occupation</th>\n",
       "      <th>Sleep Duration</th>\n",
       "      <th>Quality of Sleep</th>\n",
       "      <th>Physical Activity Level</th>\n",
       "      <th>Stress Level</th>\n",
       "      <th>BMI Category</th>\n",
       "      <th>Blood Pressure</th>\n",
       "      <th>Heart Rate</th>\n",
       "      <th>Daily Steps</th>\n",
       "      <th>Gender_Female</th>\n",
       "      <th>Gender_Male</th>\n",
       "      <th>Sleep Disorder_Insomnia</th>\n",
       "      <th>Sleep Disorder_Sleep Apnea</th>\n",
       "    </tr>\n",
       "  </thead>\n",
       "  <tbody>\n",
       "    <tr>\n",
       "      <th>0</th>\n",
       "      <td>-1.727426</td>\n",
       "      <td>-1.753096</td>\n",
       "      <td>1.710794</td>\n",
       "      <td>-0.277074</td>\n",
       "      <td>-1.082808</td>\n",
       "      <td>-0.780338</td>\n",
       "      <td>0.225919</td>\n",
       "      <td>1.169279</td>\n",
       "      <td>-0.329552</td>\n",
       "      <td>1.758603</td>\n",
       "      <td>-1.633400e+00</td>\n",
       "      <td>-0.989361</td>\n",
       "      <td>0.989361</td>\n",
       "      <td>1</td>\n",
       "      <td>-0.505008</td>\n",
       "    </tr>\n",
       "    <tr>\n",
       "      <th>1</th>\n",
       "      <td>-1.718163</td>\n",
       "      <td>-1.637643</td>\n",
       "      <td>-0.904789</td>\n",
       "      <td>-0.257126</td>\n",
       "      <td>-1.082808</td>\n",
       "      <td>0.177792</td>\n",
       "      <td>1.658014</td>\n",
       "      <td>-0.867881</td>\n",
       "      <td>-0.610310</td>\n",
       "      <td>1.179881</td>\n",
       "      <td>1.999297e+00</td>\n",
       "      <td>-0.989361</td>\n",
       "      <td>0.989361</td>\n",
       "      <td>1</td>\n",
       "      <td>-0.505008</td>\n",
       "    </tr>\n",
       "    <tr>\n",
       "      <th>2</th>\n",
       "      <td>-1.708901</td>\n",
       "      <td>-1.637643</td>\n",
       "      <td>-0.904789</td>\n",
       "      <td>-0.257126</td>\n",
       "      <td>-1.082808</td>\n",
       "      <td>0.177792</td>\n",
       "      <td>1.658014</td>\n",
       "      <td>-0.867881</td>\n",
       "      <td>-0.610310</td>\n",
       "      <td>1.179881</td>\n",
       "      <td>1.999297e+00</td>\n",
       "      <td>-0.989361</td>\n",
       "      <td>0.989361</td>\n",
       "      <td>1</td>\n",
       "      <td>-0.505008</td>\n",
       "    </tr>\n",
       "    <tr>\n",
       "      <th>3</th>\n",
       "      <td>-1.699639</td>\n",
       "      <td>-1.637643</td>\n",
       "      <td>0.729951</td>\n",
       "      <td>-0.316969</td>\n",
       "      <td>-2.745930</td>\n",
       "      <td>-1.546841</td>\n",
       "      <td>1.658014</td>\n",
       "      <td>0.490226</td>\n",
       "      <td>1.214614</td>\n",
       "      <td>3.784129</td>\n",
       "      <td>-2.384992e+00</td>\n",
       "      <td>-0.989361</td>\n",
       "      <td>0.989361</td>\n",
       "      <td>0</td>\n",
       "      <td>1.980165</td>\n",
       "    </tr>\n",
       "    <tr>\n",
       "      <th>4</th>\n",
       "      <td>-1.690376</td>\n",
       "      <td>-1.637643</td>\n",
       "      <td>0.729951</td>\n",
       "      <td>-0.316969</td>\n",
       "      <td>-2.745930</td>\n",
       "      <td>-1.546841</td>\n",
       "      <td>1.658014</td>\n",
       "      <td>1.848332</td>\n",
       "      <td>0.231963</td>\n",
       "      <td>-0.556285</td>\n",
       "      <td>-5.696411e-16</td>\n",
       "      <td>-0.989361</td>\n",
       "      <td>0.989361</td>\n",
       "      <td>1</td>\n",
       "      <td>-0.505008</td>\n",
       "    </tr>\n",
       "  </tbody>\n",
       "</table>\n",
       "</div>"
      ],
      "text/plain": [
       "   Person ID       Age  Occupation  Sleep Duration  Quality of Sleep  \\\n",
       "0  -1.727426 -1.753096    1.710794       -0.277074         -1.082808   \n",
       "1  -1.718163 -1.637643   -0.904789       -0.257126         -1.082808   \n",
       "2  -1.708901 -1.637643   -0.904789       -0.257126         -1.082808   \n",
       "3  -1.699639 -1.637643    0.729951       -0.316969         -2.745930   \n",
       "4  -1.690376 -1.637643    0.729951       -0.316969         -2.745930   \n",
       "\n",
       "   Physical Activity Level  Stress Level  BMI Category  Blood Pressure  \\\n",
       "0                -0.780338      0.225919      1.169279       -0.329552   \n",
       "1                 0.177792      1.658014     -0.867881       -0.610310   \n",
       "2                 0.177792      1.658014     -0.867881       -0.610310   \n",
       "3                -1.546841      1.658014      0.490226        1.214614   \n",
       "4                -1.546841      1.658014      1.848332        0.231963   \n",
       "\n",
       "   Heart Rate   Daily Steps  Gender_Female  Gender_Male  \\\n",
       "0    1.758603 -1.633400e+00      -0.989361     0.989361   \n",
       "1    1.179881  1.999297e+00      -0.989361     0.989361   \n",
       "2    1.179881  1.999297e+00      -0.989361     0.989361   \n",
       "3    3.784129 -2.384992e+00      -0.989361     0.989361   \n",
       "4   -0.556285 -5.696411e-16      -0.989361     0.989361   \n",
       "\n",
       "   Sleep Disorder_Insomnia  Sleep Disorder_Sleep Apnea  \n",
       "0                        1                   -0.505008  \n",
       "1                        1                   -0.505008  \n",
       "2                        1                   -0.505008  \n",
       "3                        0                    1.980165  \n",
       "4                        1                   -0.505008  "
      ]
     },
     "execution_count": 20,
     "metadata": {},
     "output_type": "execute_result"
    }
   ],
   "source": [
    "df.head()"
   ]
  },
  {
   "cell_type": "code",
   "execution_count": null,
   "metadata": {},
   "outputs": [],
   "source": [
    "from sklearn.model_selection import train_test_split"
   ]
  },
  {
   "cell_type": "code",
   "execution_count": 21,
   "metadata": {},
   "outputs": [],
   "source": [
    "x=df.drop('Sleep Disorder_Insomnia',axis=1)"
   ]
  },
  {
   "cell_type": "code",
   "execution_count": 22,
   "id": "2084f579",
   "metadata": {},
   "outputs": [],
   "source": [
    "y=df['Sleep Disorder_Insomnia']"
   ]
  },
  {
   "cell_type": "code",
   "execution_count": 24,
   "id": "31362064",
   "metadata": {},
   "outputs": [],
   "source": [
    "from sklearn.model_selection import train_test_split"
   ]
  },
  {
   "cell_type": "code",
   "execution_count": 25,
   "id": "64eb5eaf",
   "metadata": {},
   "outputs": [],
   "source": [
    "x_train,x_test,y_train,y_test=train_test_split(x,y,test_size=0.2, random_state=42)"
   ]
  },
  {
   "cell_type": "code",
   "execution_count": 26,
   "id": "d0ad3a2d",
   "metadata": {},
   "outputs": [],
   "source": [
    "from sklearn.svm import SVR"
   ]
  },
  {
   "cell_type": "code",
   "execution_count": 27,
   "id": "983c3fb6",
   "metadata": {},
   "outputs": [],
   "source": [
    "model=SVR(kernel='rbf')"
   ]
  },
  {
   "cell_type": "code",
   "execution_count": 28,
   "id": "8dd595d7",
   "metadata": {},
   "outputs": [
    {
     "data": {
      "text/plain": [
       "SVR()"
      ]
     },
     "execution_count": 28,
     "metadata": {},
     "output_type": "execute_result"
    }
   ],
   "source": [
    "model\n"
   ]
  },
  {
   "cell_type": "code",
   "execution_count": 29,
   "id": "fed90d1d",
   "metadata": {},
   "outputs": [
    {
     "data": {
      "text/plain": [
       "SVR()"
      ]
     },
     "execution_count": 29,
     "metadata": {},
     "output_type": "execute_result"
    }
   ],
   "source": [
    "model.fit(x_train,y_train)"
   ]
  },
  {
   "cell_type": "code",
   "execution_count": 30,
   "id": "368134b7",
   "metadata": {},
   "outputs": [],
   "source": [
    "y_pred=model.predict(x_test)"
   ]
  },
  {
   "cell_type": "code",
   "execution_count": 31,
   "id": "d2dee0f8",
   "metadata": {},
   "outputs": [],
   "source": [
    "from sklearn.metrics import accuracy_score, r2_score"
   ]
  },
  {
   "cell_type": "code",
   "execution_count": 32,
   "id": "f61b431e",
   "metadata": {},
   "outputs": [],
   "source": [
    "class_score=r2_score(y_test,y_pred)"
   ]
  },
  {
   "cell_type": "code",
   "execution_count": 33,
   "id": "ee269bc4",
   "metadata": {},
   "outputs": [
    {
     "data": {
      "text/plain": [
       "0.9212488909216394"
      ]
     },
     "execution_count": 33,
     "metadata": {},
     "output_type": "execute_result"
    }
   ],
   "source": [
    "class_score"
   ]
  },
  {
   "cell_type": "markdown",
   "id": "1606e6d3",
   "metadata": {},
   "source": [
    "# SVM --> SVC "
   ]
  },
  {
   "cell_type": "code",
   "execution_count": 34,
   "id": "3d59e60e",
   "metadata": {},
   "outputs": [],
   "source": [
    "import pandas as pd"
   ]
  },
  {
   "cell_type": "code",
   "execution_count": 35,
   "id": "6aac03a2",
   "metadata": {},
   "outputs": [],
   "source": [
    "df=pd.read_csv('Sleep_health_and_lifestyle_dataset.csv')"
   ]
  },
  {
   "cell_type": "code",
   "execution_count": 36,
   "id": "ed7f6062",
   "metadata": {},
   "outputs": [
    {
     "name": "stdout",
     "output_type": "stream",
     "text": [
      "<class 'pandas.core.frame.DataFrame'>\n",
      "RangeIndex: 374 entries, 0 to 373\n",
      "Data columns (total 13 columns):\n",
      " #   Column                   Non-Null Count  Dtype  \n",
      "---  ------                   --------------  -----  \n",
      " 0   Person ID                374 non-null    int64  \n",
      " 1   Gender                   374 non-null    object \n",
      " 2   Age                      374 non-null    int64  \n",
      " 3   Occupation               374 non-null    object \n",
      " 4   Sleep Duration           373 non-null    float64\n",
      " 5   Quality of Sleep         374 non-null    int64  \n",
      " 6   Physical Activity Level  374 non-null    object \n",
      " 7   Stress Level             374 non-null    object \n",
      " 8   BMI Category             373 non-null    object \n",
      " 9   Blood Pressure           371 non-null    object \n",
      " 10  Heart Rate               368 non-null    object \n",
      " 11  Daily Steps              367 non-null    float64\n",
      " 12  Sleep Disorder           153 non-null    object \n",
      "dtypes: float64(2), int64(3), object(8)\n",
      "memory usage: 38.1+ KB\n"
     ]
    }
   ],
   "source": [
    "df.info()"
   ]
  },
  {
   "cell_type": "code",
   "execution_count": 37,
   "id": "778b8519",
   "metadata": {},
   "outputs": [],
   "source": [
    "def tozala(df):\n",
    "    for col in df.columns:\n",
    "        if df[col].isnull().any():\n",
    "            if df[col].dtype=='object':\n",
    "                df[col].fillna(df[col].mode()[0],inplace=True)\n",
    "            else:\n",
    "                df[col].fillna(df[col].mean(),inplace=True)\n",
    "\n",
    "\n"
   ]
  },
  {
   "cell_type": "code",
   "execution_count": 38,
   "id": "99c045bb",
   "metadata": {},
   "outputs": [],
   "source": [
    "tozala(df)"
   ]
  },
  {
   "cell_type": "code",
   "execution_count": 39,
   "id": "95cdc347",
   "metadata": {},
   "outputs": [],
   "source": [
    "#Encoding\n",
    "from sklearn.preprocessing import LabelEncoder\n",
    "encoder=LabelEncoder()\n",
    "def encod_qil(df):\n",
    "    df=df.copy()\n",
    "    \n",
    "    for col in df.columns:\n",
    "        if df[col].dtype=='object':\n",
    "            if df[col].nunique()<=6:\n",
    "                dummies=pd.get_dummies(df[col],prefix=col,dtype=int)\n",
    "                df=pd.concat([df.drop(columns=[col]),dummies],axis=1)\n",
    "            else:\n",
    "                df[col]=encoder.fit_transform(df[col])\n",
    "    return df\n",
    "\n"
   ]
  },
  {
   "cell_type": "code",
   "execution_count": 40,
   "id": "1448b6b7",
   "metadata": {},
   "outputs": [],
   "source": [
    "df=encod_qil(df)"
   ]
  },
  {
   "cell_type": "code",
   "execution_count": 41,
   "id": "8a28980e",
   "metadata": {},
   "outputs": [],
   "source": [
    "from sklearn.svm import SVC"
   ]
  },
  {
   "cell_type": "code",
   "execution_count": 42,
   "id": "7aea845b",
   "metadata": {},
   "outputs": [],
   "source": [
    "model=SVC(kernel='rbf')"
   ]
  },
  {
   "cell_type": "code",
   "execution_count": 43,
   "id": "6dcc5920",
   "metadata": {},
   "outputs": [
    {
     "data": {
      "text/plain": [
       "SVC()"
      ]
     },
     "execution_count": 43,
     "metadata": {},
     "output_type": "execute_result"
    }
   ],
   "source": [
    "model"
   ]
  },
  {
   "cell_type": "code",
   "execution_count": 44,
   "id": "e6a358f3",
   "metadata": {},
   "outputs": [],
   "source": [
    "x=df.drop('Sleep Disorder_Insomnia',axis=1)"
   ]
  },
  {
   "cell_type": "code",
   "execution_count": 45,
   "id": "d56c312f",
   "metadata": {},
   "outputs": [],
   "source": [
    "y=df['Sleep Disorder_Insomnia']"
   ]
  },
  {
   "cell_type": "code",
   "execution_count": 46,
   "id": "f62f4a9b",
   "metadata": {},
   "outputs": [],
   "source": [
    "from sklearn.model_selection import train_test_split\n",
    "from sklearn.metrics import accuracy_score"
   ]
  },
  {
   "cell_type": "code",
   "execution_count": 47,
   "id": "9e7ea66c",
   "metadata": {},
   "outputs": [],
   "source": [
    "x_train,x_test,y_train,y_test=train_test_split(x,y,test_size=0.2,random_state=42)"
   ]
  },
  {
   "cell_type": "code",
   "execution_count": 48,
   "id": "07a99947",
   "metadata": {},
   "outputs": [
    {
     "data": {
      "text/plain": [
       "SVC()"
      ]
     },
     "execution_count": 48,
     "metadata": {},
     "output_type": "execute_result"
    }
   ],
   "source": [
    "model.fit(x_train,y_train)"
   ]
  },
  {
   "cell_type": "code",
   "execution_count": 49,
   "id": "7010a52f",
   "metadata": {},
   "outputs": [
    {
     "data": {
      "text/plain": [
       "SVC()"
      ]
     },
     "execution_count": 49,
     "metadata": {},
     "output_type": "execute_result"
    }
   ],
   "source": [
    "model"
   ]
  },
  {
   "cell_type": "code",
   "execution_count": 50,
   "id": "35803b30",
   "metadata": {},
   "outputs": [],
   "source": [
    "y_pred=model.predict(x_test)"
   ]
  },
  {
   "cell_type": "code",
   "execution_count": 51,
   "id": "8d9508e1",
   "metadata": {},
   "outputs": [],
   "source": [
    "score=accuracy_score(y_test,y_pred)"
   ]
  },
  {
   "cell_type": "code",
   "execution_count": 52,
   "id": "6ca1a3de",
   "metadata": {},
   "outputs": [
    {
     "data": {
      "text/plain": [
       "0.8266666666666667"
      ]
     },
     "execution_count": 52,
     "metadata": {},
     "output_type": "execute_result"
    }
   ],
   "source": [
    "score"
   ]
  },
  {
   "cell_type": "code",
   "execution_count": null,
   "id": "3afe46f0",
   "metadata": {},
   "outputs": [],
   "source": []
  },
  {
   "cell_type": "code",
   "execution_count": null,
   "id": "25c9e1eb",
   "metadata": {},
   "outputs": [],
   "source": []
  },
  {
   "cell_type": "code",
   "execution_count": null,
   "id": "ff41f4a1",
   "metadata": {},
   "outputs": [],
   "source": []
  }
 ],
 "metadata": {
  "kernelspec": {
   "display_name": "base",
   "language": "python",
   "name": "python3"
  },
  "language_info": {
   "codemirror_mode": {
    "name": "ipython",
    "version": 3
   },
   "file_extension": ".py",
   "mimetype": "text/x-python",
   "name": "python",
   "nbconvert_exporter": "python",
   "pygments_lexer": "ipython3",
   "version": "3.8.8"
  }
 },
 "nbformat": 4,
 "nbformat_minor": 5
}
