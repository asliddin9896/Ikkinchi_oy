{
 "cells": [
  {
   "cell_type": "code",
   "execution_count": 87,
   "id": "46bc0397",
   "metadata": {},
   "outputs": [],
   "source": [
    "import numpy as np\n",
    "import pandas as pd\n",
    "from sklearn.model_selection import train_test_split\n",
    "from sklearn.linear_model import LogisticRegression\n",
    "from sklearn.metrics import accuracy_score\n",
    "from sklearn.tree import DecisionTreeClassifier"
   ]
  },
  {
   "cell_type": "code",
   "execution_count": 88,
   "id": "afdb41cb",
   "metadata": {},
   "outputs": [],
   "source": [
    "df = pd.read_csv('Sleep_health_and_lifestyle_dataset.csv')"
   ]
  },
  {
   "cell_type": "code",
   "execution_count": 89,
   "id": "56b546cb",
   "metadata": {},
   "outputs": [
    {
     "name": "stdout",
     "output_type": "stream",
     "text": [
      "<class 'pandas.core.frame.DataFrame'>\n",
      "RangeIndex: 374 entries, 0 to 373\n",
      "Data columns (total 13 columns):\n",
      " #   Column                   Non-Null Count  Dtype  \n",
      "---  ------                   --------------  -----  \n",
      " 0   Person ID                374 non-null    int64  \n",
      " 1   Gender                   374 non-null    object \n",
      " 2   Age                      374 non-null    int64  \n",
      " 3   Occupation               374 non-null    object \n",
      " 4   Sleep Duration           373 non-null    float64\n",
      " 5   Quality of Sleep         374 non-null    int64  \n",
      " 6   Physical Activity Level  374 non-null    object \n",
      " 7   Stress Level             374 non-null    object \n",
      " 8   BMI Category             373 non-null    object \n",
      " 9   Blood Pressure           371 non-null    object \n",
      " 10  Heart Rate               368 non-null    object \n",
      " 11  Daily Steps              367 non-null    float64\n",
      " 12  Sleep Disorder           153 non-null    object \n",
      "dtypes: float64(2), int64(3), object(8)\n",
      "memory usage: 38.1+ KB\n"
     ]
    }
   ],
   "source": [
    "df.info()"
   ]
  },
  {
   "cell_type": "code",
   "execution_count": 90,
   "id": "4e1f4fa7",
   "metadata": {},
   "outputs": [
    {
     "data": {
      "text/plain": [
       "Person ID                    0\n",
       "Gender                       0\n",
       "Age                          0\n",
       "Occupation                   0\n",
       "Sleep Duration               1\n",
       "Quality of Sleep             0\n",
       "Physical Activity Level      0\n",
       "Stress Level                 0\n",
       "BMI Category                 1\n",
       "Blood Pressure               3\n",
       "Heart Rate                   6\n",
       "Daily Steps                  7\n",
       "Sleep Disorder             221\n",
       "dtype: int64"
      ]
     },
     "execution_count": 90,
     "metadata": {},
     "output_type": "execute_result"
    }
   ],
   "source": [
    "df.isnull().sum()"
   ]
  },
  {
   "cell_type": "code",
   "execution_count": 91,
   "id": "50b2a1b2",
   "metadata": {},
   "outputs": [],
   "source": [
    "def tozala(df):\n",
    "    for col in df.columns:\n",
    "        if df[col].isnull().any():\n",
    "            if df[col].dtype=='object':\n",
    "                df[col].fillna(df[col].mode()[0],inplace=True)\n",
    "            else:\n",
    "                df[col].fillna(df[col].mean(),inplace=True)\n",
    "    return df"
   ]
  },
  {
   "cell_type": "code",
   "execution_count": 92,
   "id": "d22a11df",
   "metadata": {},
   "outputs": [
    {
     "name": "stdout",
     "output_type": "stream",
     "text": [
      "<class 'pandas.core.frame.DataFrame'>\n",
      "RangeIndex: 374 entries, 0 to 373\n",
      "Data columns (total 13 columns):\n",
      " #   Column                   Non-Null Count  Dtype  \n",
      "---  ------                   --------------  -----  \n",
      " 0   Person ID                374 non-null    int64  \n",
      " 1   Gender                   374 non-null    object \n",
      " 2   Age                      374 non-null    int64  \n",
      " 3   Occupation               374 non-null    object \n",
      " 4   Sleep Duration           373 non-null    float64\n",
      " 5   Quality of Sleep         374 non-null    int64  \n",
      " 6   Physical Activity Level  374 non-null    object \n",
      " 7   Stress Level             374 non-null    object \n",
      " 8   BMI Category             373 non-null    object \n",
      " 9   Blood Pressure           371 non-null    object \n",
      " 10  Heart Rate               368 non-null    object \n",
      " 11  Daily Steps              367 non-null    float64\n",
      " 12  Sleep Disorder           153 non-null    object \n",
      "dtypes: float64(2), int64(3), object(8)\n",
      "memory usage: 38.1+ KB\n"
     ]
    }
   ],
   "source": [
    "df.info()"
   ]
  },
  {
   "cell_type": "code",
   "execution_count": 93,
   "id": "d8bebc8d",
   "metadata": {},
   "outputs": [],
   "source": [
    "from sklearn.preprocessing import LabelEncoder"
   ]
  },
  {
   "cell_type": "code",
   "execution_count": 94,
   "id": "2170fc7b",
   "metadata": {},
   "outputs": [],
   "source": [
    "from sklearn.preprocessing import LabelEncoder\n",
    "\n",
    "def encodlash(df):\n",
    "    df = df.copy() \n",
    "    le = LabelEncoder()\n",
    "    \n",
    "    for col in df.columns:\n",
    "        if df[col].dtype == 'object':\n",
    "            if df[col].nunique() <= 6:\n",
    "                dummies = pd.get_dummies(df[col], prefix=col, dtype=int)\n",
    "                df = pd.concat([df.drop(columns=[col]), dummies], axis=1)\n",
    "            else:\n",
    "                df[col] = le.fit_transform(df[col])\n",
    "    \n",
    "    return df\n"
   ]
  },
  {
   "cell_type": "code",
   "execution_count": 95,
   "id": "b8eae08e",
   "metadata": {},
   "outputs": [],
   "source": [
    "df=encodlash(df)"
   ]
  },
  {
   "cell_type": "code",
   "execution_count": 96,
   "id": "9141dede",
   "metadata": {},
   "outputs": [
    {
     "name": "stdout",
     "output_type": "stream",
     "text": [
      "<class 'pandas.core.frame.DataFrame'>\n",
      "RangeIndex: 374 entries, 0 to 373\n",
      "Data columns (total 15 columns):\n",
      " #   Column                      Non-Null Count  Dtype  \n",
      "---  ------                      --------------  -----  \n",
      " 0   Person ID                   374 non-null    int64  \n",
      " 1   Age                         374 non-null    int64  \n",
      " 2   Occupation                  374 non-null    int32  \n",
      " 3   Sleep Duration              373 non-null    float64\n",
      " 4   Quality of Sleep            374 non-null    int64  \n",
      " 5   Physical Activity Level     374 non-null    int32  \n",
      " 6   Stress Level                374 non-null    int32  \n",
      " 7   BMI Category                374 non-null    int32  \n",
      " 8   Blood Pressure              374 non-null    int32  \n",
      " 9   Heart Rate                  374 non-null    int32  \n",
      " 10  Daily Steps                 367 non-null    float64\n",
      " 11  Gender_Female               374 non-null    int32  \n",
      " 12  Gender_Male                 374 non-null    int32  \n",
      " 13  Sleep Disorder_Insomnia     374 non-null    int32  \n",
      " 14  Sleep Disorder_Sleep Apnea  374 non-null    int32  \n",
      "dtypes: float64(2), int32(10), int64(3)\n",
      "memory usage: 29.3 KB\n"
     ]
    }
   ],
   "source": [
    "df.info()"
   ]
  },
  {
   "cell_type": "code",
   "execution_count": 97,
   "id": "def14da0",
   "metadata": {},
   "outputs": [],
   "source": [
    " df = df.fillna(df.mean())"
   ]
  },
  {
   "cell_type": "code",
   "execution_count": 98,
   "id": "9cf41295",
   "metadata": {},
   "outputs": [
    {
     "name": "stdout",
     "output_type": "stream",
     "text": [
      "<class 'pandas.core.frame.DataFrame'>\n",
      "RangeIndex: 374 entries, 0 to 373\n",
      "Data columns (total 15 columns):\n",
      " #   Column                      Non-Null Count  Dtype  \n",
      "---  ------                      --------------  -----  \n",
      " 0   Person ID                   374 non-null    int64  \n",
      " 1   Age                         374 non-null    int64  \n",
      " 2   Occupation                  374 non-null    int32  \n",
      " 3   Sleep Duration              374 non-null    float64\n",
      " 4   Quality of Sleep            374 non-null    int64  \n",
      " 5   Physical Activity Level     374 non-null    int32  \n",
      " 6   Stress Level                374 non-null    int32  \n",
      " 7   BMI Category                374 non-null    int32  \n",
      " 8   Blood Pressure              374 non-null    int32  \n",
      " 9   Heart Rate                  374 non-null    int32  \n",
      " 10  Daily Steps                 374 non-null    float64\n",
      " 11  Gender_Female               374 non-null    int32  \n",
      " 12  Gender_Male                 374 non-null    int32  \n",
      " 13  Sleep Disorder_Insomnia     374 non-null    int32  \n",
      " 14  Sleep Disorder_Sleep Apnea  374 non-null    int32  \n",
      "dtypes: float64(2), int32(10), int64(3)\n",
      "memory usage: 29.3 KB\n"
     ]
    }
   ],
   "source": [
    "df.info()"
   ]
  },
  {
   "cell_type": "code",
   "execution_count": 99,
   "id": "88f4cfab",
   "metadata": {},
   "outputs": [
    {
     "data": {
      "text/plain": [
       "Person ID                     0\n",
       "Age                           0\n",
       "Occupation                    0\n",
       "Sleep Duration                0\n",
       "Quality of Sleep              0\n",
       "Physical Activity Level       0\n",
       "Stress Level                  0\n",
       "BMI Category                  0\n",
       "Blood Pressure                0\n",
       "Heart Rate                    0\n",
       "Daily Steps                   0\n",
       "Gender_Female                 0\n",
       "Gender_Male                   0\n",
       "Sleep Disorder_Insomnia       0\n",
       "Sleep Disorder_Sleep Apnea    0\n",
       "dtype: int64"
      ]
     },
     "execution_count": 99,
     "metadata": {},
     "output_type": "execute_result"
    }
   ],
   "source": [
    "df.isnull().sum()"
   ]
  },
  {
   "cell_type": "code",
   "execution_count": 100,
   "id": "64026270",
   "metadata": {},
   "outputs": [],
   "source": [
    "x = df.drop(['Sleep Disorder_Insomnia'], axis=1)\n",
    "y = df[['Sleep Disorder_Insomnia']]\n"
   ]
  },
  {
   "cell_type": "code",
   "execution_count": 101,
   "id": "82d2c319",
   "metadata": {},
   "outputs": [],
   "source": [
    "x_train,x_test,y_train,y_test=train_test_split(x,y,test_size=0.2,random_state=42)"
   ]
  },
  {
   "cell_type": "code",
   "execution_count": 102,
   "id": "ad16ab34",
   "metadata": {},
   "outputs": [],
   "source": [
    "model =LogisticRegression()\n",
    "dt_model=DecisionTreeClassifier()"
   ]
  },
  {
   "cell_type": "code",
   "execution_count": 108,
   "id": "3d690227",
   "metadata": {},
   "outputs": [
    {
     "name": "stderr",
     "output_type": "stream",
     "text": [
      "c:\\Users\\pc\\anaconda3\\lib\\site-packages\\sklearn\\utils\\validation.py:63: DataConversionWarning: A column-vector y was passed when a 1d array was expected. Please change the shape of y to (n_samples, ), for example using ravel().\n",
      "  return f(*args, **kwargs)\n",
      "c:\\Users\\pc\\anaconda3\\lib\\site-packages\\sklearn\\linear_model\\_logistic.py:763: ConvergenceWarning: lbfgs failed to converge (status=1):\n",
      "STOP: TOTAL NO. of ITERATIONS REACHED LIMIT.\n",
      "\n",
      "Increase the number of iterations (max_iter) or scale the data as shown in:\n",
      "    https://scikit-learn.org/stable/modules/preprocessing.html\n",
      "Please also refer to the documentation for alternative solver options:\n",
      "    https://scikit-learn.org/stable/modules/linear_model.html#logistic-regression\n",
      "  n_iter_i = _check_optimize_result(\n"
     ]
    },
    {
     "data": {
      "text/plain": [
       "DecisionTreeClassifier()"
      ]
     },
     "execution_count": 108,
     "metadata": {},
     "output_type": "execute_result"
    }
   ],
   "source": [
    "model.fit(x_train,y_train)\n",
    "dt_model.fit(x_train,y_train)"
   ]
  },
  {
   "cell_type": "code",
   "execution_count": 109,
   "id": "4745f5bd",
   "metadata": {},
   "outputs": [],
   "source": [
    "model_pred=model.predict(x_test)\n",
    "model_pred2=dt_model.predict(x_test)"
   ]
  },
  {
   "cell_type": "code",
   "execution_count": 105,
   "id": "202f17ac",
   "metadata": {},
   "outputs": [
    {
     "data": {
      "text/plain": [
       "array([0, 0, 0, 0, 0, 1, 0, 0, 0, 0, 1, 0, 0, 0, 0, 0, 0, 1, 0, 0, 0, 0,\n",
       "       0, 1, 1, 0, 1, 1, 1, 0, 0, 0, 0, 0, 0, 0, 0, 0, 0, 0, 1, 0, 0, 1,\n",
       "       0, 0, 0, 0, 1, 0, 0, 0, 0, 0, 1, 0, 0, 1, 0, 0, 0, 0, 0, 0, 1, 0,\n",
       "       1, 0, 0, 0, 0, 1, 0, 0, 0])"
      ]
     },
     "execution_count": 105,
     "metadata": {},
     "output_type": "execute_result"
    }
   ],
   "source": [
    "model_pred"
   ]
  },
  {
   "cell_type": "code",
   "execution_count": 110,
   "id": "b6018a12",
   "metadata": {},
   "outputs": [],
   "source": [
    "data_score=accuracy_score(y_test,model_pred)\n",
    "data_score2=accuracy_score(y_test,model_pred2)"
   ]
  },
  {
   "cell_type": "code",
   "execution_count": 112,
   "id": "9e27dbf6",
   "metadata": {},
   "outputs": [
    {
     "data": {
      "text/plain": [
       "0.92"
      ]
     },
     "execution_count": 112,
     "metadata": {},
     "output_type": "execute_result"
    }
   ],
   "source": [
    "data_score"
   ]
  },
  {
   "cell_type": "code",
   "execution_count": 113,
   "id": "d5687782",
   "metadata": {},
   "outputs": [
    {
     "data": {
      "text/plain": [
       "0.9466666666666667"
      ]
     },
     "execution_count": 113,
     "metadata": {},
     "output_type": "execute_result"
    }
   ],
   "source": [
    "data_score2"
   ]
  },
  {
   "cell_type": "code",
   "execution_count": null,
   "id": "1312b18c",
   "metadata": {},
   "outputs": [],
   "source": []
  }
 ],
 "metadata": {
  "kernelspec": {
   "display_name": "base",
   "language": "python",
   "name": "python3"
  },
  "language_info": {
   "codemirror_mode": {
    "name": "ipython",
    "version": 3
   },
   "file_extension": ".py",
   "mimetype": "text/x-python",
   "name": "python",
   "nbconvert_exporter": "python",
   "pygments_lexer": "ipython3",
   "version": "3.8.8"
  }
 },
 "nbformat": 4,
 "nbformat_minor": 5
}
