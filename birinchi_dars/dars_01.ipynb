{
 "cells": [
  {
   "cell_type": "markdown",
   "id": "8d88b154",
   "metadata": {},
   "source": [
    "# Uyga vazifa "
   ]
  },
  {
   "cell_type": "code",
   "execution_count": 2,
   "id": "8f386d32",
   "metadata": {},
   "outputs": [
    {
     "data": {
      "text/plain": [
       "7"
      ]
     },
     "execution_count": 2,
     "metadata": {},
     "output_type": "execute_result"
    }
   ],
   "source": [
    "# berilgan istalgan berilgan sonlarni yigindisini topadigan \n",
    "\n",
    "def yigindini_top(a,b):\n",
    "    return a+b\n",
    "yigindini_top(3,4)"
   ]
  },
  {
   "cell_type": "code",
   "execution_count": 49,
   "id": "6028d7de",
   "metadata": {},
   "outputs": [
    {
     "data": {
      "text/plain": [
       "4"
      ]
     },
     "execution_count": 49,
     "metadata": {},
     "output_type": "execute_result"
    }
   ],
   "source": [
    "# berilgan listdagi so'zlar ichidan eng qisqa so'zni(birinchi keladigan) toping\n",
    "def qisqa_soz(a):\n",
    "    sozlar=a.split()\n",
    "    jami=[]\n",
    "    for i in sozlar:\n",
    "        jami.append(len(i))\n",
    "\n",
    "    return min(jami)\n",
    "\n",
    "b= \"Bugun havo sobiq\"\n",
    "qisqa_soz(b)\n",
    "\n"
   ]
  },
  {
   "cell_type": "code",
   "execution_count": 54,
   "id": "6249ff65",
   "metadata": {},
   "outputs": [
    {
     "data": {
      "text/plain": [
       "5"
      ]
     },
     "execution_count": 54,
     "metadata": {},
     "output_type": "execute_result"
    }
   ],
   "source": [
    "# berilgan listdagi so'zlar ichidan eng uzun so'zni(birinchi keladigan) toping\n",
    "\n",
    "def qisqa_soz(a):\n",
    "    sozlar=a.split()\n",
    "    jami=[]\n",
    "    for i in sozlar:\n",
    "        jami.append(len(i))\n",
    "\n",
    "    return max(jami) \n",
    "\n",
    "b= \"Bugun havo sobiq\"\n",
    "qisqa_soz(b)"
   ]
  },
  {
   "cell_type": "code",
   "execution_count": 60,
   "metadata": {},
   "outputs": [
    {
     "data": {
      "text/plain": [
       "[2, 4, 6]"
      ]
     },
     "execution_count": 60,
     "metadata": {},
     "output_type": "execute_result"
    }
   ],
   "source": [
    "# berilgan sonlar ichidan juftlarini topadigan \n",
    "def sonlar(*x):\n",
    "    jami=[]\n",
    "    for a in x:\n",
    "        if a%2==0:\n",
    "            jami.append(a)\n",
    "    return jami\n",
    "sonlar(1,2,3,4,5,6)"
   ]
  },
  {
   "cell_type": "code",
   "execution_count": 61,
   "metadata": {},
   "outputs": [
    {
     "data": {
      "text/plain": [
       "[1, 3, 5]"
      ]
     },
     "execution_count": 61,
     "metadata": {},
     "output_type": "execute_result"
    }
   ],
   "source": [
    "# berilgan sonlar ichidan toqlarini\n",
    "def sonlar(*x):\n",
    "    jami=[]\n",
    "    for a in x:\n",
    "        if a%2!=0:\n",
    "            jami.append(a)\n",
    "    return jami\n",
    "sonlar(1,2,3,4,5,6)"
   ]
  },
  {
   "cell_type": "code",
   "execution_count": 63,
   "id": "1ca0f3a4",
   "metadata": {},
   "outputs": [
    {
     "data": {
      "text/plain": [
       "21"
      ]
     },
     "execution_count": 63,
     "metadata": {},
     "output_type": "execute_result"
    }
   ],
   "source": [
    "# berilgan sonlar ichidan juft/toqlarini yigindisini topadigan funksiya yarating\n",
    "def jami(*x):\n",
    "    return sum(x)\n",
    "\n",
    "jami(1,2,3,4,5,6)"
   ]
  },
  {
   "cell_type": "code",
   "execution_count": null,
   "id": "b3600fb2",
   "metadata": {},
   "outputs": [],
   "source": []
  }
 ],
 "metadata": {
  "kernelspec": {
   "display_name": "base",
   "language": "python",
   "name": "python3"
  },
  "language_info": {
   "codemirror_mode": {
    "name": "ipython",
    "version": 3
   },
   "file_extension": ".py",
   "mimetype": "text/x-python",
   "name": "python",
   "nbconvert_exporter": "python",
   "pygments_lexer": "ipython3",
   "version": "3.8.8"
  }
 },
 "nbformat": 4,
 "nbformat_minor": 5
}
