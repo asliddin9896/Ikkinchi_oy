{
 "cells": [
  {
   "cell_type": "code",
   "execution_count": 1,
   "id": "505733f1",
   "metadata": {},
   "outputs": [],
   "source": [
    "# 2-Dars uyga vazifa"
   ]
  },
  {
   "cell_type": "code",
   "execution_count": null,
   "id": "4faff9d5",
   "metadata": {},
   "outputs": [
    {
     "data": {
      "text/plain": [
       "4"
      ]
     },
     "execution_count": 11,
     "metadata": {},
     "output_type": "execute_result"
    }
   ],
   "source": [
    "#1 Robotni turgan  positisiyasi  berilgan \n",
    "# robotni ishlash qoidasiga kora chapdan onga xarakatlanadi \n",
    "# va berilgan buyruq songa ko'ra 3 marta xarakatlanadi \n",
    "# va bir marta orqaga xarakatlanadi. Robotni yangi joyini topadigan funksiya yarating:\n",
    "# Masalan  start=0 buyruq=2 natija 4\n",
    "def robot(start, buyruq):\n",
    "    for d in range(3):\n",
    "        start = start + buyruq\n",
    "    start = start - buyruq\n",
    "    return start\n",
    "robot(0,2)\n"
   ]
  },
  {
   "cell_type": "code",
   "execution_count": 14,
   "id": "96b06090",
   "metadata": {},
   "outputs": [
    {
     "data": {
      "text/plain": [
       "27"
      ]
     },
     "execution_count": 14,
     "metadata": {},
     "output_type": "execute_result"
    }
   ],
   "source": [
    "#2 Berilgan  2 ta kubnining orasidan eng kattasini toping(1 qator kod orqali)\n",
    "def kub(x,y):\n",
    "    return max(x**3,y**3)\n",
    "kub(3,2)"
   ]
  },
  {
   "cell_type": "code",
   "execution_count": 60,
   "id": "b383dd4a",
   "metadata": {},
   "outputs": [
    {
     "data": {
      "text/plain": [
       "'asliddin'"
      ]
     },
     "execution_count": 60,
     "metadata": {},
     "output_type": "execute_result"
    }
   ],
   "source": [
    "#3 Berilgan so'zdagi eng uzun so'zni toping agar so'z bosh bolsa [ ] ni qaytaring\n",
    "def matn(soz):\n",
    "    if not soz:\n",
    "        return []\n",
    "    sozlar = soz.split()\n",
    "    uzun = max(sozlar,key=len)\n",
    "    return uzun\n",
    "tartiblash(\"mening ismin asliddin\")"
   ]
  },
  {
   "cell_type": "code",
   "execution_count": 64,
   "metadata": {},
   "outputs": [
    {
     "data": {
      "text/plain": [
       "19"
      ]
     },
     "execution_count": 64,
     "metadata": {},
     "output_type": "execute_result"
    }
   ],
   "source": [
    "#4 Berilgan  2 ta kubnining  hajmi orasidagi farqni toping\n",
    "def kublar(x,y):\n",
    "    return abs(x**3-y**3)\n",
    "kublar(2,3)"
   ]
  },
  {
   "cell_type": "code",
   "execution_count": null,
   "id": "7f1a6896",
   "metadata": {},
   "outputs": [
    {
     "data": {
      "text/plain": [
       "[]"
      ]
     },
     "execution_count": 73,
     "metadata": {},
     "output_type": "execute_result"
    }
   ],
   "source": [
    "# Berilgan listdagi sonlarni tartiblang agar bosh bolsa yoki none bolsa [] ni qaytaring\n",
    "def tartibla(*nums):\n",
    "    if nums is None or len(nums)==0:\n",
    "        return []\n",
    "    return sorted(nums)\n",
    "\n",
    "\n",
    "\n",
    "tartibla(2,3,4,5)\n",
    "tartibla()"
   ]
  },
  {
   "cell_type": "code",
   "execution_count": null,
   "id": "0f19557a",
   "metadata": {},
   "outputs": [],
   "source": []
  },
  {
   "cell_type": "code",
   "execution_count": null,
   "id": "df74487d",
   "metadata": {},
   "outputs": [],
   "source": []
  },
  {
   "cell_type": "code",
   "execution_count": null,
   "id": "0c791f38",
   "metadata": {},
   "outputs": [],
   "source": []
  },
  {
   "cell_type": "code",
   "execution_count": null,
   "id": "1c49bf21",
   "metadata": {},
   "outputs": [],
   "source": []
  }
 ],
 "metadata": {
  "kernelspec": {
   "display_name": "base",
   "language": "python",
   "name": "python3"
  },
  "language_info": {
   "codemirror_mode": {
    "name": "ipython",
    "version": 3
   },
   "file_extension": ".py",
   "mimetype": "text/x-python",
   "name": "python",
   "nbconvert_exporter": "python",
   "pygments_lexer": "ipython3",
   "version": "3.8.8"
  }
 },
 "nbformat": 4,
 "nbformat_minor": 5
}
